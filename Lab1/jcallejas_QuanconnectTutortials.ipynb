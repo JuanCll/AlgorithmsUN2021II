{
  "nbformat": 4,
  "nbformat_minor": 0,
  "metadata": {
    "colab": {
      "name": "jcallejas_QuanconnectTutortials.ipynb",
      "provenance": [],
      "collapsed_sections": [],
      "toc_visible": true
    },
    "kernelspec": {
      "name": "python3",
      "display_name": "Python 3"
    },
    "language_info": {
      "name": "python"
    }
  },
  "cells": [
    {
      "cell_type": "markdown",
      "metadata": {
        "id": "bUUgNEcADTpj"
      },
      "source": [
        "# **Introduction to Financial Python**\n",
        "\n",
        "\n"
      ]
    },
    {
      "cell_type": "markdown",
      "metadata": {
        "id": "fHmApe8pHeaD"
      },
      "source": [
        "# Data Types and Data Structures\n",
        "\n"
      ]
    },
    {
      "cell_type": "markdown",
      "metadata": {
        "id": "n3wJ_d5M0C55"
      },
      "source": [
        "**Basic Variable Types**\n",
        "\n",
        "The basic types of variables in Python are: strings, integers, floating point numbers and booleans.\n",
        "\n",
        "Strings in python are identified as a contiguous set of characters represented in either single quotes (' ') or double quotes (\" \")."
      ]
    },
    {
      "cell_type": "code",
      "metadata": {
        "colab": {
          "base_uri": "https://localhost:8080/"
        },
        "id": "k--PmyviDeJs",
        "outputId": "e50ed1cc-daee-4ea9-8004-72af9417070b"
      },
      "source": [
        "my_string1 = 'Welcome to'\n",
        "my_string2 = \"QuantConnect\"\n",
        "my_string3 = 'Binvenido al'\n",
        "my_string4 = \"primer ejemplo de \"\n",
        "print(my_string1 + ' ' + my_string2)\n",
        "print(my_string3 + ' ' + my_string4 + ' ' + my_string2)\n"
      ],
      "execution_count": 1,
      "outputs": [
        {
          "output_type": "stream",
          "name": "stdout",
          "text": [
            "Welcome to QuantConnect\n",
            "Binvenido al primer ejemplo de  QuantConnect\n"
          ]
        }
      ]
    },
    {
      "cell_type": "markdown",
      "metadata": {
        "id": "pYZDZw3oHgAr"
      },
      "source": [
        "An integer is a round number with no values after the decimal point."
      ]
    },
    {
      "cell_type": "code",
      "metadata": {
        "colab": {
          "base_uri": "https://localhost:8080/"
        },
        "id": "HDWpsV9hG77-",
        "outputId": "225ca7f2-ba4e-4cda-8812-ba8cabcdb154"
      },
      "source": [
        "my_int = 10\n",
        "int2=324443\n",
        "print(my_int)\n",
        "print(int2)\n",
        "print(type(my_int))\n",
        "print(type(int2))\n"
      ],
      "execution_count": 2,
      "outputs": [
        {
          "output_type": "stream",
          "name": "stdout",
          "text": [
            "10\n",
            "324443\n",
            "<class 'int'>\n",
            "<class 'int'>\n"
          ]
        }
      ]
    },
    {
      "cell_type": "markdown",
      "metadata": {
        "id": "xda_mh6jHZtU"
      },
      "source": [
        "The built-in function int() can convert a string into an integer."
      ]
    },
    {
      "cell_type": "code",
      "metadata": {
        "colab": {
          "base_uri": "https://localhost:8080/"
        },
        "id": "4rULQxVTJ2JH",
        "outputId": "61e6925a-fbd1-484a-aefa-eafbae126b05"
      },
      "source": [
        "my_string = \"100\"\n",
        "string1=\"123\"\n",
        "print(type(my_string))\n",
        "print(type(string1))\n",
        "my_int = int(my_string)\n",
        "int2= int(string1)\n",
        "print(type(my_int))\n",
        "print(type(int2))\n"
      ],
      "execution_count": 3,
      "outputs": [
        {
          "output_type": "stream",
          "name": "stdout",
          "text": [
            "<class 'str'>\n",
            "<class 'str'>\n",
            "<class 'int'>\n",
            "<class 'int'>\n"
          ]
        }
      ]
    },
    {
      "cell_type": "markdown",
      "metadata": {
        "id": "ELl4ka5pLy5Q"
      },
      "source": [
        "A floating point number, or a float, is a real number in mathematics. In Python we need to include a value after a decimal point to define it as a float."
      ]
    },
    {
      "cell_type": "code",
      "metadata": {
        "colab": {
          "base_uri": "https://localhost:8080/"
        },
        "id": "M0lOwNFkLz99",
        "outputId": "017584c3-1ca6-48bf-b6e9-ec5bac0cb7c9"
      },
      "source": [
        "my_float = 1.0\n",
        "float2= 15.342\n",
        "print(type(my_float))\n",
        "print(type(float2))\n",
        "my_int = 1\n",
        "print(type(my_int))\n"
      ],
      "execution_count": 4,
      "outputs": [
        {
          "output_type": "stream",
          "name": "stdout",
          "text": [
            "<class 'float'>\n",
            "<class 'float'>\n",
            "<class 'int'>\n"
          ]
        }
      ]
    },
    {
      "cell_type": "markdown",
      "metadata": {
        "id": "dP6HkaHGSEL_"
      },
      "source": [
        "As you can see above, if we don't include a decimal value, the variable would be defined as an integer. The built-in function float() can convert a string or an integer into a float."
      ]
    },
    {
      "cell_type": "code",
      "metadata": {
        "colab": {
          "base_uri": "https://localhost:8080/"
        },
        "id": "6PnSDaEbSFmc",
        "outputId": "b1bccdd5-7d35-4e26-8a7a-3289ec43972b"
      },
      "source": [
        "my_string = \"100\"\n",
        "my_float = float(my_string)\n",
        "int1=25\n",
        "float1=float(int1)\n",
        "print(type(my_float))\n",
        "print(type(float1))"
      ],
      "execution_count": 5,
      "outputs": [
        {
          "output_type": "stream",
          "name": "stdout",
          "text": [
            "<class 'float'>\n",
            "<class 'float'>\n"
          ]
        }
      ]
    },
    {
      "cell_type": "markdown",
      "metadata": {
        "id": "9VUnojCKVPOP"
      },
      "source": [
        "A boolean, or bool, is a binary variable. Its value can only be True or False. It is useful when we do some logic operations, which would be covered in our next chapter."
      ]
    },
    {
      "cell_type": "code",
      "metadata": {
        "colab": {
          "base_uri": "https://localhost:8080/"
        },
        "id": "Sff6BCSzVPXW",
        "outputId": "2d2f2a16-f768-464d-f1c4-b55d2b9f4247"
      },
      "source": [
        "my_bool = False\n",
        "bool2=True\n",
        "print(my_bool)\n",
        "print(bool2)\n",
        "print(type(my_bool))\n",
        "print(type(bool2))"
      ],
      "execution_count": 6,
      "outputs": [
        {
          "output_type": "stream",
          "name": "stdout",
          "text": [
            "False\n",
            "True\n",
            "<class 'bool'>\n",
            "<class 'bool'>\n"
          ]
        }
      ]
    },
    {
      "cell_type": "markdown",
      "metadata": {
        "id": "6SFkF1TUaSqq"
      },
      "source": [
        "**Basic Math Operations**\n",
        "\n",
        "\n",
        "\n",
        "The basic math operators in python are demonstrated below:\n"
      ]
    },
    {
      "cell_type": "code",
      "metadata": {
        "colab": {
          "base_uri": "https://localhost:8080/"
        },
        "id": "eVGeMgXtaZwv",
        "outputId": "77a3406d-ac91-4438-b175-e59b1aa557d2"
      },
      "source": [
        "print(\"Addition \", 1+1)\n",
        "print(\"Subtraction \", 5-2)\n",
        "print(\"Multiplication \", 2*3)\n",
        "print(\"Division\", 10/2)\n",
        "print(\"exponent\", 2**3)\n"
      ],
      "execution_count": 7,
      "outputs": [
        {
          "output_type": "stream",
          "name": "stdout",
          "text": [
            "Addition  2\n",
            "Subtraction  3\n",
            "Multiplication  6\n",
            "Division 5.0\n",
            "exponent 8\n"
          ]
        }
      ]
    },
    {
      "cell_type": "markdown",
      "metadata": {
        "id": "z7A8T8r3r--0"
      },
      "source": [
        "**Data Collections**\n",
        "\n",
        "List\n",
        "\n",
        "A list is an ordered collection of values. A list is mutable, which means you can change a list's value without changing the list itself. Creating a list is simply putting different comma-separated values between square brackets."
      ]
    },
    {
      "cell_type": "code",
      "metadata": {
        "colab": {
          "base_uri": "https://localhost:8080/"
        },
        "id": "yl5l1gT_sF-s",
        "outputId": "f4d86e15-0781-4908-fe81-961509ea4986"
      },
      "source": [
        "my_list = ['Quant', 'Connect', 1,2,3]\n",
        "my_list2 = ['Hello', 'World', 2.4,4444]\n",
        "print(my_list)\n",
        "print(my_list2)\n"
      ],
      "execution_count": 8,
      "outputs": [
        {
          "output_type": "stream",
          "name": "stdout",
          "text": [
            "['Quant', 'Connect', 1, 2, 3]\n",
            "['Hello', 'World', 2.4, 4444]\n"
          ]
        }
      ]
    },
    {
      "cell_type": "markdown",
      "metadata": {
        "id": "HXrV1PrsvX6S"
      },
      "source": [
        "The values in a list are called \"elements\". We can access list elements by indexing. Python index starts from 0. So if you have a list of length n, the index of the first element will be 0, and that of the last element will be n − 1. By the way, the length of a list can be obtained by the built-in function len()."
      ]
    },
    {
      "cell_type": "code",
      "metadata": {
        "colab": {
          "base_uri": "https://localhost:8080/"
        },
        "id": "i4Ud69aivY1Z",
        "outputId": "f3f93b2c-1ce6-44d3-cbaa-4f27bad099ce"
      },
      "source": [
        "my_list = ['Quant', 'Connect', 1,2,3]\n",
        "print(len(my_list))\n",
        "print(my_list[0])\n",
        "print(my_list[3])\n",
        "print(my_list[len(my_list) - 1])\n"
      ],
      "execution_count": 9,
      "outputs": [
        {
          "output_type": "stream",
          "name": "stdout",
          "text": [
            "5\n",
            "Quant\n",
            "2\n",
            "3\n"
          ]
        }
      ]
    },
    {
      "cell_type": "markdown",
      "metadata": {
        "id": "Kc0iJZHK001K"
      },
      "source": [
        "You can also change the elements in the list by accessing an index and assigning a new value."
      ]
    },
    {
      "cell_type": "code",
      "metadata": {
        "colab": {
          "base_uri": "https://localhost:8080/"
        },
        "id": "hV06Z6r501Dy",
        "outputId": "7c925fbc-1455-4a96-c9cd-7458461052cf"
      },
      "source": [
        "my_list = ['Quant','Connect',1,2,3]\n",
        "my_list[2] = 'go'\n",
        "my_list[len(my_list) - 1]=5\n",
        "print(my_list)"
      ],
      "execution_count": 10,
      "outputs": [
        {
          "output_type": "stream",
          "name": "stdout",
          "text": [
            "['Quant', 'Connect', 'go', 2, 5]\n"
          ]
        }
      ]
    },
    {
      "cell_type": "markdown",
      "metadata": {
        "id": "4kuf6wzR2EIg"
      },
      "source": [
        "A list can also be sliced with a colon:"
      ]
    },
    {
      "cell_type": "code",
      "metadata": {
        "colab": {
          "base_uri": "https://localhost:8080/"
        },
        "id": "WrC9jgCB2E0o",
        "outputId": "faeadfd2-e0c8-4e49-dd09-2a7c5768a159"
      },
      "source": [
        "my_list = ['Quant','Connect',1,2,3]\n",
        "print(my_list[1:3])\n",
        "print(my_list[0:2])"
      ],
      "execution_count": 11,
      "outputs": [
        {
          "output_type": "stream",
          "name": "stdout",
          "text": [
            "['Connect', 1]\n",
            "['Quant', 'Connect']\n"
          ]
        }
      ]
    },
    {
      "cell_type": "markdown",
      "metadata": {
        "id": "Iw3NCJNq2xB0"
      },
      "source": [
        "The slice starts from the first element indicated, but excludes the last element indicated. Here we select all elements starting from index 1, which refers to the second element:"
      ]
    },
    {
      "cell_type": "code",
      "metadata": {
        "colab": {
          "base_uri": "https://localhost:8080/"
        },
        "id": "piDBVApm2wSJ",
        "outputId": "c85fedad-c178-4a6f-a878-f7e1f25236d9"
      },
      "source": [
        "print(my_list[1:])\n",
        "print(my_list[3:])"
      ],
      "execution_count": 12,
      "outputs": [
        {
          "output_type": "stream",
          "name": "stdout",
          "text": [
            "['Connect', 1, 2, 3]\n",
            "[2, 3]\n"
          ]
        }
      ]
    },
    {
      "cell_type": "markdown",
      "metadata": {
        "id": "UfbZTbAy21lJ"
      },
      "source": [
        "And all elements up to but excluding index 3:"
      ]
    },
    {
      "cell_type": "code",
      "metadata": {
        "colab": {
          "base_uri": "https://localhost:8080/"
        },
        "id": "ZgrPsNq-21t8",
        "outputId": "325c1a03-3c9c-4263-9c75-e1ec958d5112"
      },
      "source": [
        "print(my_list[:3])\n",
        "print(my_list[:2])"
      ],
      "execution_count": 13,
      "outputs": [
        {
          "output_type": "stream",
          "name": "stdout",
          "text": [
            "['Quant', 'Connect', 1]\n",
            "['Quant', 'Connect']\n"
          ]
        }
      ]
    },
    {
      "cell_type": "markdown",
      "metadata": {
        "id": "IwvcPGbc3V9C"
      },
      "source": [
        "If you wish to add or remove an element from a list, you can use the append() and remove() methods for lists as follows:"
      ]
    },
    {
      "cell_type": "code",
      "metadata": {
        "colab": {
          "base_uri": "https://localhost:8080/"
        },
        "id": "eD23Q6Ff3WgY",
        "outputId": "d467944c-d6be-42d5-b60f-70718763a38f"
      },
      "source": [
        "my_list = ['Hello', 'Quant']\n",
        "my_list.append('Hello')\n",
        "print(my_list)\n",
        "\n",
        "my_list.remove('Hello')\n",
        "print(my_list)\n"
      ],
      "execution_count": 14,
      "outputs": [
        {
          "output_type": "stream",
          "name": "stdout",
          "text": [
            "['Hello', 'Quant', 'Hello']\n",
            "['Quant', 'Hello']\n"
          ]
        }
      ]
    },
    {
      "cell_type": "markdown",
      "metadata": {
        "id": "96Ywn3R05JrU"
      },
      "source": [
        "**Tuple**\n",
        "\n",
        "A tuple is a data structure type similar to a list. The difference is that a tuple is immutable, which means you can't change the elements in it once it's defined. We create a tuple by putting comma-separated values between parentheses.\n",
        "\n"
      ]
    },
    {
      "cell_type": "code",
      "metadata": {
        "id": "8R0zyaX75JzZ"
      },
      "source": [
        "my_tuple = ('Welcome','to','QuantConnect')\n",
        "my_tuple2=(\"Hola\",\"Mundo\",1,2,3)"
      ],
      "execution_count": 15,
      "outputs": []
    },
    {
      "cell_type": "markdown",
      "metadata": {
        "id": "ttVYpNye59de"
      },
      "source": [
        "Just like a list, a tuple can be sliced by using index."
      ]
    },
    {
      "cell_type": "code",
      "metadata": {
        "colab": {
          "base_uri": "https://localhost:8080/"
        },
        "id": "idwoAfG959iv",
        "outputId": "05ce59ba-69c1-4314-909a-b279e0081d5c"
      },
      "source": [
        "my_tuple = ('Welcome','to','QuantConnect')\n",
        "my_tuple2=(\"Hola\",\"Mundo\",1,2,3)\n",
        "print(my_tuple[1:])\n",
        "print(my_tuple2[:2])"
      ],
      "execution_count": 16,
      "outputs": [
        {
          "output_type": "stream",
          "name": "stdout",
          "text": [
            "('to', 'QuantConnect')\n",
            "('Hola', 'Mundo')\n"
          ]
        }
      ]
    },
    {
      "cell_type": "markdown",
      "metadata": {
        "id": "UrDIhEcm8MCV"
      },
      "source": [
        "**Set**\n",
        "\n",
        "A set is an unordered collection with no duplicate elements. The built-in function set() can be used to create sets.\n",
        "Set is an easy way to remove duplicate elements from a list.\n",
        "\n"
      ]
    },
    {
      "cell_type": "code",
      "metadata": {
        "colab": {
          "base_uri": "https://localhost:8080/"
        },
        "id": "9_tSRzJR8Nxj",
        "outputId": "06869403-aed6-489c-f44b-a253aefc4996"
      },
      "source": [
        "stock_list = ['AAPL','GOOG','IBM','AAPL','IBM','FB','F','GOOG']\n",
        "stock_list2 = [2,4,6,8,\"Hola\",\"Mundo\"]\n",
        "stock_set = set(stock_list)\n",
        "stock_set2 = set(stock_list2)\n",
        "print(stock_set)\n",
        "print(stock_set2)"
      ],
      "execution_count": 17,
      "outputs": [
        {
          "output_type": "stream",
          "name": "stdout",
          "text": [
            "{'F', 'AAPL', 'GOOG', 'IBM', 'FB'}\n",
            "{2, 4, 'Mundo', 6, 8, 'Hola'}\n"
          ]
        }
      ]
    },
    {
      "cell_type": "markdown",
      "metadata": {
        "id": "NSDm3-c79LND"
      },
      "source": [
        "**Dictionary**\n",
        "\n",
        "A dictionary is one of the most important data structures in Python. Unlike sequences which are indexed by integers, dictionaries are indexed by keys which can be either strings or floats.\n",
        "\n",
        "A dictionary is an unordered collection of key : value pairs, with the requirement that the keys are unique. We create a dictionary by placing a comma-separated list of key : value pairs within the braces."
      ]
    },
    {
      "cell_type": "code",
      "metadata": {
        "id": "leossB4w9LUT"
      },
      "source": [
        "my_dic = {'AAPL': 'Apple', 'FB': 'FaceBook', 'GOOG': 'Alphabet'}\n",
        "my_dic2 = {1: 'Hola', 1.5: 'Mundo', 2: ':)'}"
      ],
      "execution_count": 18,
      "outputs": []
    },
    {
      "cell_type": "markdown",
      "metadata": {
        "id": "iAKi-bAV98e7"
      },
      "source": [
        "After defining a dictionary, we can access any value by indicating its key in brackets."
      ]
    },
    {
      "cell_type": "code",
      "metadata": {
        "colab": {
          "base_uri": "https://localhost:8080/"
        },
        "id": "dsMD9EEq98nC",
        "outputId": "16f1ef15-2384-4908-b507-5db8ff1b3311"
      },
      "source": [
        "print(my_dic['GOOG'])\n",
        "print(my_dic2[2])"
      ],
      "execution_count": 19,
      "outputs": [
        {
          "output_type": "stream",
          "name": "stdout",
          "text": [
            "Alphabet\n",
            ":)\n"
          ]
        }
      ]
    },
    {
      "cell_type": "markdown",
      "metadata": {
        "id": "3nyukFVRKxnS"
      },
      "source": [
        "We can also change the value associated with a specified key:"
      ]
    },
    {
      "cell_type": "code",
      "metadata": {
        "colab": {
          "base_uri": "https://localhost:8080/"
        },
        "id": "VIN_jkuVKyf8",
        "outputId": "16ad0b40-f722-45bc-b02c-41e16d1f3bfa"
      },
      "source": [
        "my_dic['GOOG'] = 'Alphabet Company'\n",
        "my_dic2[1]=\"Hello\"\n",
        "print(my_dic['GOOG'])\n",
        "print(my_dic2)"
      ],
      "execution_count": 20,
      "outputs": [
        {
          "output_type": "stream",
          "name": "stdout",
          "text": [
            "Alphabet Company\n",
            "{1: 'Hello', 1.5: 'Mundo', 2: ':)'}\n"
          ]
        }
      ]
    },
    {
      "cell_type": "markdown",
      "metadata": {
        "id": "_jRKEXOoL6L8"
      },
      "source": [
        "The built-in method of the dictionary object dict.keys() returns a list of all the keys used in the dictionary."
      ]
    },
    {
      "cell_type": "code",
      "metadata": {
        "colab": {
          "base_uri": "https://localhost:8080/"
        },
        "id": "IhkDvSYbL6RO",
        "outputId": "dedd6970-8b30-47a7-d02a-e8df16c0e888"
      },
      "source": [
        "print(my_dic.keys())\n",
        "print(my_dic2.keys())"
      ],
      "execution_count": 21,
      "outputs": [
        {
          "output_type": "stream",
          "name": "stdout",
          "text": [
            "dict_keys(['AAPL', 'FB', 'GOOG'])\n",
            "dict_keys([1, 1.5, 2])\n"
          ]
        }
      ]
    },
    {
      "cell_type": "markdown",
      "metadata": {
        "id": "3PrVr12AMEye"
      },
      "source": [
        "**Common String Operations**\n",
        "\n",
        "A string is an immutable sequence of characters. It can be sliced by index just like a tuple:"
      ]
    },
    {
      "cell_type": "code",
      "metadata": {
        "colab": {
          "base_uri": "https://localhost:8080/"
        },
        "id": "rYyXVuZkMu-1",
        "outputId": "2e22f859-d958-4a6f-8aa6-f1cbeed831e7"
      },
      "source": [
        "my_str = 'Welcome to QuantConnect'\n",
        "my_str2 = \"Hola Mundo\"\n",
        "print(my_str[8:])\n",
        "print(my_str2[:4])"
      ],
      "execution_count": 22,
      "outputs": [
        {
          "output_type": "stream",
          "name": "stdout",
          "text": [
            "to QuantConnect\n",
            "Hola\n"
          ]
        }
      ]
    },
    {
      "cell_type": "markdown",
      "metadata": {
        "id": "V2-GUWAWNUPI"
      },
      "source": [
        "There are many methods associated with strings. We can use string.count() to count the occurrences of a character in a string, use string.find() to return the index of a specific character, and use string.replace() to replace characters."
      ]
    },
    {
      "cell_type": "code",
      "metadata": {
        "colab": {
          "base_uri": "https://localhost:8080/"
        },
        "id": "ryRMqf_HNUzt",
        "outputId": "7378a8f6-0c5f-4717-b927-96770416e005"
      },
      "source": [
        "print(\"Counting the number of e's in this sentence\".count('e'))\n",
        "print('The first time e appears in this sentence'.find('e'))\n",
        "print('all the a in this sentence now becomes e'.replace('a','e'))\n",
        "print(\"Hola Mundo\".replace(\"Hola\",\"Hello\"))"
      ],
      "execution_count": 23,
      "outputs": [
        {
          "output_type": "stream",
          "name": "stdout",
          "text": [
            "6\n",
            "2\n",
            "ell the e in this sentence now becomes e\n",
            "Hello Mundo\n"
          ]
        }
      ]
    },
    {
      "cell_type": "markdown",
      "metadata": {
        "id": "UJxDOxTHOCU2"
      },
      "source": [
        "The most commonly used method for strings is string.split(). This method will split the string by the indicated character and return a list:\n",
        "\n"
      ]
    },
    {
      "cell_type": "code",
      "metadata": {
        "colab": {
          "base_uri": "https://localhost:8080/"
        },
        "id": "kg6B1NAQOHw0",
        "outputId": "64d75f9d-a7d9-4d5d-8713-f92d42d3950e"
      },
      "source": [
        "Time = '2016-04-01 09:43:00'\n",
        "splited_list = Time.split(' ')\n",
        "date = splited_list[0]\n",
        "time = splited_list[1]\n",
        "print(date, time)\n",
        "hour = time.split(':')[0]\n",
        "minute = time.split(':')[1]\n",
        "sec = time.split(':')[2]\n",
        "print(hour)\n",
        "print(minute)\n",
        "print(sec)"
      ],
      "execution_count": 24,
      "outputs": [
        {
          "output_type": "stream",
          "name": "stdout",
          "text": [
            "2016-04-01 09:43:00\n",
            "09\n",
            "43\n",
            "00\n"
          ]
        }
      ]
    },
    {
      "cell_type": "markdown",
      "metadata": {
        "id": "3aHvPMM7PJE0"
      },
      "source": [
        "We can replace parts of a string by our variable. This is called string formatting."
      ]
    },
    {
      "cell_type": "code",
      "metadata": {
        "colab": {
          "base_uri": "https://localhost:8080/"
        },
        "id": "TGbV7S2JPLbD",
        "outputId": "57f9a3fc-1b0d-464c-a8dd-aa62152af40d"
      },
      "source": [
        "my_time = 'Hour: {}, Minute: {}'.format(9, 43)\n",
        "my_time2 = 'Hour: {}, Minute: {}, Second: {}'.format(5, 55, 55)\n",
        "print(my_time)\n",
        "print(my_time2)"
      ],
      "execution_count": 25,
      "outputs": [
        {
          "output_type": "stream",
          "name": "stdout",
          "text": [
            "Hour: 9, Minute: 43\n",
            "Hour: 5, Minute: 55, Second: 55\n"
          ]
        }
      ]
    },
    {
      "cell_type": "markdown",
      "metadata": {
        "id": "t3LemGnDQM6V"
      },
      "source": [
        "Another way to format a string is to use the % symbol.\n",
        "%s is a placeholder that takes in a string. Similarly %f takes a float and %d takes an integer."
      ]
    },
    {
      "cell_type": "code",
      "metadata": {
        "colab": {
          "base_uri": "https://localhost:8080/"
        },
        "id": "ZA7Ls_XJQNuC",
        "outputId": "0c0d95b0-48e6-4c15-f849-46c2d9437a0f"
      },
      "source": [
        "print('pi is %f' % 3.14)\n",
        "print('%s to %s' % ('Welcome', 'QuantConnect'))\n",
        "print('%s  %s %i' % ('Hola', 'Mundo', 123))"
      ],
      "execution_count": 26,
      "outputs": [
        {
          "output_type": "stream",
          "name": "stdout",
          "text": [
            "pi is 3.140000\n",
            "Welcome to QuantConnect\n",
            "Hola  Mundo 123\n"
          ]
        }
      ]
    },
    {
      "cell_type": "markdown",
      "metadata": {
        "id": "ZjnVPNk3Hq-3"
      },
      "source": [
        "# Logical Operations and Loops"
      ]
    },
    {
      "cell_type": "markdown",
      "metadata": {
        "id": "Gdx8vf9JHwXl"
      },
      "source": [
        "**Logical Operations**\n",
        "\n",
        "Like most programming languages, Python has comparison operators:"
      ]
    },
    {
      "cell_type": "code",
      "metadata": {
        "colab": {
          "base_uri": "https://localhost:8080/"
        },
        "id": "49UnpzRaH0VZ",
        "outputId": "a5f30ba0-2bd0-4a65-d9cb-38c9300475cb"
      },
      "source": [
        "print(1 == 0 )    # 1 equals 0\n",
        "print(1 == 1)     # 1 equals 1\n",
        "print(1 != 0)     # 1 is not equal to 0\n",
        "print(5 >= 5 )    # 5 is greater than or equal to 5\n",
        "print(5 >= 6)     # 5 is greater than or equal to 6\n",
        "print(1 < 4) "
      ],
      "execution_count": 27,
      "outputs": [
        {
          "output_type": "stream",
          "name": "stdout",
          "text": [
            "False\n",
            "True\n",
            "True\n",
            "True\n",
            "False\n",
            "True\n"
          ]
        }
      ]
    },
    {
      "cell_type": "markdown",
      "metadata": {
        "id": "vNQsHxC-LLGj"
      },
      "source": [
        "Each statement above has a boolean value, which must be either True or False, but not both.\n",
        "\n",
        "We can combine simple statements P and Q to form complex statements using logical operators:\n",
        "\n",
        " \n",
        "\n",
        "*   The statement \"P and Q\" is true if both P and Q are true, otherwise it is false.\n",
        "*   The statement \"P or Q\" is false if both P and Q are false, otherwise it is true.\n",
        "* The statement \"not P\" is true if P is false, and vice versa.\n",
        "\n",
        "\n"
      ]
    },
    {
      "cell_type": "code",
      "metadata": {
        "colab": {
          "base_uri": "https://localhost:8080/"
        },
        "id": "ilWAVzh7LLzz",
        "outputId": "26d652c9-6a58-4bdf-8185-e27e140c7e80"
      },
      "source": [
        "print(2 > 1 and 3 > 2)\n",
        "print(2 > 1 and 3 < 2)\n",
        "print(2 > 1 or  3 < 2)\n",
        "print(2 < 1 and 3 < 2)\n",
        "print(2 != 1 and 3 < 2)"
      ],
      "execution_count": 28,
      "outputs": [
        {
          "output_type": "stream",
          "name": "stdout",
          "text": [
            "True\n",
            "False\n",
            "True\n",
            "False\n",
            "False\n"
          ]
        }
      ]
    },
    {
      "cell_type": "markdown",
      "metadata": {
        "id": "WJiH1EGYNNNS"
      },
      "source": [
        "When dealing with a very complex logical statement that involves in several statements, we can use brackets to separate and combine them.\n",
        "\n"
      ]
    },
    {
      "cell_type": "code",
      "metadata": {
        "colab": {
          "base_uri": "https://localhost:8080/"
        },
        "id": "GMujA340NNtK",
        "outputId": "3db238ab-b897-4cd4-a23d-4cb00a65945e"
      },
      "source": [
        "print((3 > 2 or 1 < 3) and (1!=3 and 4>3) and not ( 3 < 2 or 1 < 3 and (1!=3 and 4>3)))\n",
        "print( 3 > 2 or 1 < 3 and (1!=3 and 4>3) and not ( 3 < 2 or 1 < 3 and (1!=3 and 4>3)))\n",
        "x_bool=(2 > 2 or 1 == 3) and (1<=3 and 4>3) and not ( 3 < 2 or 1 < 3 and (1!=3 and 4>3))\n",
        "print(x_bool)"
      ],
      "execution_count": 29,
      "outputs": [
        {
          "output_type": "stream",
          "name": "stdout",
          "text": [
            "False\n",
            "True\n",
            "False\n"
          ]
        }
      ]
    },
    {
      "cell_type": "markdown",
      "metadata": {
        "id": "V_1hP19bPoMO"
      },
      "source": [
        "**If Statement**\n",
        "\n",
        "An if statement executes a segment of code only if its condition is true. A standard if statement consists of 3 segments: if, elif and else.\n",
        "\n",
        "\n",
        "```\n",
        "if condition1:\n",
        "    # if condition1 is true, execute the code here\n",
        "    # and ignore the rest of this if statement\n",
        "elif condition2:\n",
        "    # if condition1 is false, and condition2 is true, execute the code here\n",
        "    # and ignore the rest of this if statement\n",
        "else:\n",
        "    # if none of the above conditions is True, execute the code here\n",
        "```\n",
        "An if statement doesn't necessarily has elif and else part. If it's not specified, the indented block of code will be executed when the condition is true, otherwise the whole if statement will be skipped.\n"
      ]
    },
    {
      "cell_type": "code",
      "metadata": {
        "colab": {
          "base_uri": "https://localhost:8080/"
        },
        "id": "k805NdwIPpxg",
        "outputId": "0f4775d5-5730-450c-a32d-20a279435ebf"
      },
      "source": [
        "i = 0\n",
        "j=3\n",
        "if i == 0: print('i == 0 is True')\n",
        "if j != 0: print('i == 0 is False')"
      ],
      "execution_count": 30,
      "outputs": [
        {
          "output_type": "stream",
          "name": "stdout",
          "text": [
            "i == 0 is True\n",
            "i == 0 is False\n"
          ]
        }
      ]
    },
    {
      "cell_type": "markdown",
      "metadata": {
        "id": "2LIOyGDURyTb"
      },
      "source": [
        "As we mentioned above, we can write some complex statements here:\n",
        "\n"
      ]
    },
    {
      "cell_type": "code",
      "metadata": {
        "id": "aUkdufw7Ry4g",
        "colab": {
          "base_uri": "https://localhost:8080/"
        },
        "outputId": "fb231cb2-14c3-4ad4-e1c6-e9b64d5b25c5"
      },
      "source": [
        "p = 1 > 0\n",
        "q = 2 > 3\n",
        "if p and q:\n",
        "    print('p and q is true')\n",
        "elif p and not q:\n",
        "    print('q is false')\n",
        "elif q and not p:\n",
        "    print('p is false')\n",
        "else:\n",
        "    print('None of p and q is true')"
      ],
      "execution_count": 31,
      "outputs": [
        {
          "output_type": "stream",
          "name": "stdout",
          "text": [
            "q is false\n"
          ]
        }
      ]
    },
    {
      "cell_type": "markdown",
      "metadata": {
        "id": "5qug0BLSTcT4"
      },
      "source": [
        "**Loop Structure**\n",
        "\n",
        "Loops are an essential part of programming. The \"for\" and \"while\" loops run a block of code repeatedly.\n",
        "\n",
        "**While Loop**\n",
        "\n",
        "A \"while\" loop will run repeatedly until a certain condition has been met.\n"
      ]
    },
    {
      "cell_type": "code",
      "metadata": {
        "colab": {
          "base_uri": "https://localhost:8080/"
        },
        "id": "1m_BC9lSTitX",
        "outputId": "29e2b784-d19c-45d0-8fc6-17dbf0854060"
      },
      "source": [
        "i = 0\n",
        "while i < 5:\n",
        "    print(i)\n",
        "    print(\"--\")\n",
        "    i += 1"
      ],
      "execution_count": 32,
      "outputs": [
        {
          "output_type": "stream",
          "name": "stdout",
          "text": [
            "0\n",
            "--\n",
            "1\n",
            "--\n",
            "2\n",
            "--\n",
            "3\n",
            "--\n",
            "4\n",
            "--\n"
          ]
        }
      ]
    },
    {
      "cell_type": "markdown",
      "metadata": {
        "id": "l5xyviMRTcbg"
      },
      "source": [
        "When making a while loop, we need to ensure that something changes from iteration to iteration so that the while loop will terminate, otherwise, it will run forever. Here we used i += 1 (short for i = i + 1) to make i larger after each iteration. This is the most commonly used method to control a while loop.\n",
        "\n",
        "**For Loop**\n",
        "\n",
        "A \"for\" loop will iterate over a sequence of value and terminate when the sequence has ended."
      ]
    },
    {
      "cell_type": "code",
      "metadata": {
        "colab": {
          "base_uri": "https://localhost:8080/"
        },
        "id": "5bE85GvSUNxO",
        "outputId": "ae459799-fe23-4380-b078-c3c12509c03c"
      },
      "source": [
        "for x in [1,2,3,4,5]: \n",
        "  print(x) \n",
        "  print(\"--\")"
      ],
      "execution_count": 33,
      "outputs": [
        {
          "output_type": "stream",
          "name": "stdout",
          "text": [
            "1\n",
            "--\n",
            "2\n",
            "--\n",
            "3\n",
            "--\n",
            "4\n",
            "--\n",
            "5\n",
            "--\n"
          ]
        }
      ]
    },
    {
      "cell_type": "markdown",
      "metadata": {
        "id": "QcBZQMRaUgjE"
      },
      "source": [
        "We can also add if statements in a for loop. Here is a real example from our pairs trading algorithm:\n",
        "\n",
        "Here we iterated all the elements in the list 'stocks'. Later in this chapter, we will introduce a smarter way to do this, which is just a one-line code."
      ]
    },
    {
      "cell_type": "code",
      "metadata": {
        "colab": {
          "base_uri": "https://localhost:8080/"
        },
        "id": "_wV7G38mUi5n",
        "outputId": "4362a51d-be37-462b-eb7d-95293d3c27fa"
      },
      "source": [
        "stocks = ['AAPL','GOOG','IBM','FB','F','V', 'G', 'GE']\n",
        "selected = ['AAPL','IBM']\n",
        "new_list = []\n",
        "new_list2 = []\n",
        "for stock in stocks:\n",
        "    if stock not in selected:\n",
        "        new_list.append(stock)\n",
        "for stock in stocks:\n",
        "    if stock  in selected:\n",
        "        new_list2.append(stock)\n",
        "print(new_list)\n",
        "print(new_list2)"
      ],
      "execution_count": 34,
      "outputs": [
        {
          "output_type": "stream",
          "name": "stdout",
          "text": [
            "['GOOG', 'FB', 'F', 'V', 'G', 'GE']\n",
            "['AAPL', 'IBM']\n"
          ]
        }
      ]
    },
    {
      "cell_type": "markdown",
      "metadata": {
        "id": "KCaWTmIuV3ZD"
      },
      "source": [
        "**Break and continue**\n",
        "\n",
        "These are two commonly used commands in a for loop. If \"break\" is triggered while a loop is executing, the loop will terminate immediately:"
      ]
    },
    {
      "cell_type": "code",
      "metadata": {
        "colab": {
          "base_uri": "https://localhost:8080/"
        },
        "id": "l0-IRRK9V6Iy",
        "outputId": "3dd8e659-ec9b-4623-abac-387b2727bdf4"
      },
      "source": [
        "stocks = ['AAPL','GOOG','IBM','FB','F','V', 'G', 'GE']\n",
        "stocks2 = ['AAPL','GOOG','IBM','FB','F','V', 'G', 'GE']\n",
        "for stock in stocks:\n",
        "    print(stock)\n",
        "    if stock == 'FB': break\n",
        "print(\"------\")\n",
        "for stock2 in stocks2:\n",
        "    print(stock2)\n",
        "    if stock2 == 'GOOG': break"
      ],
      "execution_count": 35,
      "outputs": [
        {
          "output_type": "stream",
          "name": "stdout",
          "text": [
            "AAPL\n",
            "GOOG\n",
            "IBM\n",
            "FB\n",
            "------\n",
            "AAPL\n",
            "GOOG\n"
          ]
        }
      ]
    },
    {
      "cell_type": "markdown",
      "metadata": {
        "id": "29kDtAyraUJw"
      },
      "source": [
        "The \"continue\" command tells the loop to end this iteration and skip to the next iteration:"
      ]
    },
    {
      "cell_type": "code",
      "metadata": {
        "colab": {
          "base_uri": "https://localhost:8080/"
        },
        "id": "NhYEkm7pa-8V",
        "outputId": "450d992f-b610-4904-8075-6a7698e491fc"
      },
      "source": [
        "stocks = ['AAPL','GOOG','IBM','FB','F','V', 'G', 'GE']\n",
        "stocks2 = ['AAPL','GOOG','IBM','FB','F','V', 'G', 'GE']\n",
        "for stock in stocks:\n",
        "    if stock == 'FB': continue\n",
        "    print(stock)\n",
        "print(\"------\")\n",
        "for stock2 in stocks2:\n",
        "    if stock2 == 'GOOG': continue\n",
        "    print(stock2)\n",
        "    "
      ],
      "execution_count": 36,
      "outputs": [
        {
          "output_type": "stream",
          "name": "stdout",
          "text": [
            "AAPL\n",
            "GOOG\n",
            "IBM\n",
            "F\n",
            "V\n",
            "G\n",
            "GE\n",
            "------\n",
            "AAPL\n",
            "IBM\n",
            "FB\n",
            "F\n",
            "V\n",
            "G\n",
            "GE\n"
          ]
        }
      ]
    },
    {
      "cell_type": "markdown",
      "metadata": {
        "id": "1jdzKHia5uG0"
      },
      "source": [
        "**List Comprehension**\n",
        "\n",
        "List comprehension is a Pythonic way to create lists. Common applications are to make new lists where each element is the result of some operations applied to each member of another sequence. For example, if we want to create a list of squares using for loop:"
      ]
    },
    {
      "cell_type": "code",
      "metadata": {
        "colab": {
          "base_uri": "https://localhost:8080/"
        },
        "id": "lBjW825d50ZJ",
        "outputId": "1b2135be-46f4-4008-d6c4-f465fbda6a9c"
      },
      "source": [
        "squares = []\n",
        "cubes=[]\n",
        "for i in [1,2,3,4,5]:\n",
        "    squares.append(i**2)\n",
        "    cubes.append(i**3)\n",
        "print(squares)\n",
        "print(cubes)"
      ],
      "execution_count": 37,
      "outputs": [
        {
          "output_type": "stream",
          "name": "stdout",
          "text": [
            "[1, 4, 9, 16, 25]\n",
            "[1, 8, 27, 64, 125]\n"
          ]
        }
      ]
    },
    {
      "cell_type": "markdown",
      "metadata": {
        "id": "66WNpiYT72xW"
      },
      "source": [
        "Using list comprehension:"
      ]
    },
    {
      "cell_type": "code",
      "metadata": {
        "colab": {
          "base_uri": "https://localhost:8080/"
        },
        "id": "UUETAiye73ei",
        "outputId": "7a9b1771-b72b-4571-9218-a35ca17c81ee"
      },
      "source": [
        "foo = [1,2,3,4,5]\n",
        "squares = [x**2 for x in foo]\n",
        "cubes=[x**3 for x in foo]\n",
        "print(squares)\n",
        "print(cubes)"
      ],
      "execution_count": 38,
      "outputs": [
        {
          "output_type": "stream",
          "name": "stdout",
          "text": [
            "[1, 4, 9, 16, 25]\n",
            "[1, 8, 27, 64, 125]\n"
          ]
        }
      ]
    },
    {
      "cell_type": "markdown",
      "metadata": {
        "id": "J-Vgugwr9ai8"
      },
      "source": [
        "Recall the example above where we used a for loop to select stocks. Here we use list comprehension:"
      ]
    },
    {
      "cell_type": "code",
      "metadata": {
        "colab": {
          "base_uri": "https://localhost:8080/"
        },
        "id": "_I9qgYeJ9bPa",
        "outputId": "06270ac9-82d3-40c8-d0f3-1b52f42d83e4"
      },
      "source": [
        "stocks = ['AAPL','GOOG','IBM','FB','F','V', 'G', 'GE']\n",
        "selected = ['AAPL','IBM']\n",
        "new_list = [x for x in stocks if x not in selected]\n",
        "new_list2 = [y for y in stocks if y in selected]\n",
        "print(new_list)\n",
        "print(new_list2)"
      ],
      "execution_count": 39,
      "outputs": [
        {
          "output_type": "stream",
          "name": "stdout",
          "text": [
            "['GOOG', 'FB', 'F', 'V', 'G', 'GE']\n",
            "['AAPL', 'IBM']\n"
          ]
        }
      ]
    },
    {
      "cell_type": "markdown",
      "metadata": {
        "id": "qt03FTkW_6FA"
      },
      "source": [
        "A list comprehension consists of square brackets containing an expression followed by a \"for\" clause, and possibly \"for\" or \"if\" clauses. For example:\n",
        "\n",
        "\n",
        "List comprehension is an elegant way to organize one or more for loops when creating a list.\n"
      ]
    },
    {
      "cell_type": "code",
      "metadata": {
        "colab": {
          "base_uri": "https://localhost:8080/"
        },
        "id": "ljP6Cbdz_8EH",
        "outputId": "0c1f2c45-aaca-40dc-9a5c-30d8549dceb9"
      },
      "source": [
        "print([(x, y) for x in [1,2,3] for y in [3,1,4] if x != y])\n",
        "print([str(x) + ' vs ' + str(y) for x in ['AAPL','GOOG','IBM','FB']\n",
        "                                for y in ['F','V','G','GE'] if x != y])"
      ],
      "execution_count": 40,
      "outputs": [
        {
          "output_type": "stream",
          "name": "stdout",
          "text": [
            "[(1, 3), (1, 4), (2, 3), (2, 1), (2, 4), (3, 1), (3, 4)]\n",
            "['AAPL vs F', 'AAPL vs V', 'AAPL vs G', 'AAPL vs GE', 'GOOG vs F', 'GOOG vs V', 'GOOG vs G', 'GOOG vs GE', 'IBM vs F', 'IBM vs V', 'IBM vs G', 'IBM vs GE', 'FB vs F', 'FB vs V', 'FB vs G', 'FB vs GE']\n"
          ]
        }
      ]
    },
    {
      "cell_type": "markdown",
      "metadata": {
        "id": "VDGCOBZZAeCt"
      },
      "source": [
        "# Functions and Objective-Oriented Programming"
      ]
    },
    {
      "cell_type": "markdown",
      "metadata": {
        "id": "NFqk9mqSA1BT"
      },
      "source": [
        "**Functions**\n",
        "\n",
        "A function is a reusable block of code. We can use a function to output a value, or do anything else we want. We can easily define our own function by using the keyword \"def\"."
      ]
    },
    {
      "cell_type": "code",
      "metadata": {
        "colab": {
          "base_uri": "https://localhost:8080/"
        },
        "id": "wFFZwu1dA5yL",
        "outputId": "3d2b151f-6ed0-403a-951b-499eceb2ff70"
      },
      "source": [
        "def product(x,y):\n",
        "    return x*y\n",
        "print(product(2,3))\n",
        "print(product(5,10))\n",
        "print(product(234,13484))\n"
      ],
      "execution_count": 41,
      "outputs": [
        {
          "output_type": "stream",
          "name": "stdout",
          "text": [
            "6\n",
            "50\n",
            "3155256\n"
          ]
        }
      ]
    },
    {
      "cell_type": "markdown",
      "metadata": {
        "id": "JkIWTD9cBDJ1"
      },
      "source": [
        "The keyword \"def\" is followed by the function name and the parenthesized list of formal parameters. The statements that form the body of the function start at the next line, and must be indented. The product() function above has \"x\" and \"y\" as its parameters. A function doesn't necessarily have parameters:"
      ]
    },
    {
      "cell_type": "code",
      "metadata": {
        "colab": {
          "base_uri": "https://localhost:8080/"
        },
        "id": "33UsrMVXBEAl",
        "outputId": "675d2884-57c1-484f-ace8-4fb892c0ca07"
      },
      "source": [
        "def say_hi():\n",
        "    print(\"Welcome to QuantConnect\")\n",
        "    print(\"Hola Mundo\")\n",
        "say_hi()"
      ],
      "execution_count": 42,
      "outputs": [
        {
          "output_type": "stream",
          "name": "stdout",
          "text": [
            "Welcome to QuantConnect\n",
            "Hola Mundo\n"
          ]
        }
      ]
    },
    {
      "cell_type": "markdown",
      "metadata": {
        "id": "9iX-DE33BlmN"
      },
      "source": [
        "**Built-in Function**\n",
        "\n",
        "range() is a function that creates a list containing an arithmetic sequence. It's often used in for loops. The arguments must be integers. If the \"step\" argument is omitted, it defaults to 1."
      ]
    },
    {
      "cell_type": "code",
      "metadata": {
        "colab": {
          "base_uri": "https://localhost:8080/"
        },
        "id": "2OIGs6ftBp1H",
        "outputId": "fb025910-0831-4617-b6f7-c707bcb0c7e2"
      },
      "source": [
        "x=range(10)\n",
        "print(list(x))\n",
        "y=range(1, 11)\n",
        "print(list(y))\n",
        "print(list(range(1, 11, 2)))"
      ],
      "execution_count": 43,
      "outputs": [
        {
          "output_type": "stream",
          "name": "stdout",
          "text": [
            "[0, 1, 2, 3, 4, 5, 6, 7, 8, 9]\n",
            "[1, 2, 3, 4, 5, 6, 7, 8, 9, 10]\n",
            "[1, 3, 5, 7, 9]\n"
          ]
        }
      ]
    },
    {
      "cell_type": "markdown",
      "metadata": {
        "id": "i_5-PK5ODX0A"
      },
      "source": [
        "len() is another function used together with range() to create a for loop. This function returns the length of an object. The argument must be a sequence or a collection."
      ]
    },
    {
      "cell_type": "code",
      "metadata": {
        "colab": {
          "base_uri": "https://localhost:8080/"
        },
        "id": "b-94l_ChDYex",
        "outputId": "482c0dc4-b7da-4f16-a5c1-d07f389bf641"
      },
      "source": [
        "tickers = ['AAPL', 'GOOGL', 'IBM', 'FB', 'F', 'V', 'G', 'GE']\n",
        "print(\"The number of tickers is {}\".format(len(tickers)))\n",
        "for k in range(len(tickers)):\n",
        "    print(k + 1, tickers[k])"
      ],
      "execution_count": 44,
      "outputs": [
        {
          "output_type": "stream",
          "name": "stdout",
          "text": [
            "The number of tickers is 8\n",
            "1 AAPL\n",
            "2 GOOGL\n",
            "3 IBM\n",
            "4 FB\n",
            "5 F\n",
            "6 V\n",
            "7 G\n",
            "8 GE\n"
          ]
        }
      ]
    },
    {
      "cell_type": "markdown",
      "metadata": {
        "id": "k-xtdqAoEec6"
      },
      "source": [
        "Note: If you want to print only the tickers without those numbers, then simply write \"for ticker in tickers: print ticker\"\n",
        "\n",
        "\n",
        "map() is a function that applies a specific function to every item of a sequence or collection, and returns a list of the results."
      ]
    },
    {
      "cell_type": "code",
      "metadata": {
        "colab": {
          "base_uri": "https://localhost:8080/"
        },
        "id": "iBcKvQU0EfFv",
        "outputId": "9374a971-eb4a-435a-96f6-78551a935268"
      },
      "source": [
        "tickers = ['AAPL','GOOG','IBM','FB','F','V', 'G', 'GE']\n",
        "tickers2 = [2.235,2.98,5.55,85.3]\n",
        "print(list(map(len,tickers)))\n",
        "print(list(map(int,tickers2)))"
      ],
      "execution_count": 45,
      "outputs": [
        {
          "output_type": "stream",
          "name": "stdout",
          "text": [
            "[4, 4, 3, 2, 1, 1, 1, 2]\n",
            "[2, 2, 5, 85]\n"
          ]
        }
      ]
    },
    {
      "cell_type": "markdown",
      "metadata": {
        "id": "pGxHivovFbhE"
      },
      "source": [
        "The lambda operator is a way to create small anonymous functions. These functions are just needed where they have been created. For example:"
      ]
    },
    {
      "cell_type": "code",
      "metadata": {
        "colab": {
          "base_uri": "https://localhost:8080/"
        },
        "id": "oij1vSP4FcWg",
        "outputId": "02bf38f6-2e6b-40c9-bec9-5cd136a1258b"
      },
      "source": [
        "map(lambda x:x**2, range(10))"
      ],
      "execution_count": 46,
      "outputs": [
        {
          "output_type": "execute_result",
          "data": {
            "text/plain": [
              "<map at 0x7fc389bbc510>"
            ]
          },
          "metadata": {},
          "execution_count": 46
        }
      ]
    },
    {
      "cell_type": "markdown",
      "metadata": {
        "id": "X3LvwLU0IF_7"
      },
      "source": [
        "map() can be applied to more than one list. The lists have to have the same length."
      ]
    },
    {
      "cell_type": "code",
      "metadata": {
        "colab": {
          "base_uri": "https://localhost:8080/"
        },
        "id": "Jk8tBA2QIHWn",
        "outputId": "06aad5c2-a5e4-48d0-9bd6-ff670d92faa5"
      },
      "source": [
        "map(lambda x, y: x+y, [1,2,3,4,5], [5,4,3,2,1])"
      ],
      "execution_count": 47,
      "outputs": [
        {
          "output_type": "execute_result",
          "data": {
            "text/plain": [
              "<map at 0x7fc389b41d90>"
            ]
          },
          "metadata": {},
          "execution_count": 47
        }
      ]
    },
    {
      "cell_type": "markdown",
      "metadata": {
        "id": "vXCTWNvVILkg"
      },
      "source": [
        "sorted() takes a list or set and returns a new sorted list:"
      ]
    },
    {
      "cell_type": "code",
      "metadata": {
        "colab": {
          "base_uri": "https://localhost:8080/"
        },
        "id": "pTJzwzdrIMKs",
        "outputId": "c5c7ac72-26d2-4464-8202-cffbddf89b0d"
      },
      "source": [
        "print(sorted([5,2,3,4,1]))\n",
        "sorted([3.23,3.5,3.234])"
      ],
      "execution_count": 48,
      "outputs": [
        {
          "output_type": "stream",
          "name": "stdout",
          "text": [
            "[1, 2, 3, 4, 5]\n"
          ]
        },
        {
          "output_type": "execute_result",
          "data": {
            "text/plain": [
              "[3.23, 3.234, 3.5]"
            ]
          },
          "metadata": {},
          "execution_count": 48
        }
      ]
    },
    {
      "cell_type": "markdown",
      "metadata": {
        "id": "IKcR-QslItSk"
      },
      "source": [
        "We can add a \"key\" parameter to specify a function to be called on each list element prior to making comparisons. For example:\n",
        "\n"
      ]
    },
    {
      "cell_type": "code",
      "metadata": {
        "colab": {
          "base_uri": "https://localhost:8080/"
        },
        "id": "uu5j0YX_It4-",
        "outputId": "4e3883b7-1adf-4c4d-8142-20766af3b9a7"
      },
      "source": [
        "price_list = [('AAPL', 144.09), ('GOOGL', 911.71), ('MSFT', 69), ('FB', 150), ('WMT', 75.32)]\n",
        "price_list2 = [('AAPL', 4), ('GOOGL', 3), ('MSFT', 3.5), ('FB', 7), ('WMT', 1)]\n",
        "sorted(price_list, key = lambda x: x[1])\n",
        "sorted(price_list2, key = lambda x: x[1])"
      ],
      "execution_count": 49,
      "outputs": [
        {
          "output_type": "execute_result",
          "data": {
            "text/plain": [
              "[('WMT', 1), ('GOOGL', 3), ('MSFT', 3.5), ('AAPL', 4), ('FB', 7)]"
            ]
          },
          "metadata": {},
          "execution_count": 49
        }
      ]
    },
    {
      "cell_type": "markdown",
      "metadata": {
        "id": "FXm0R-rAKD99"
      },
      "source": [
        "By default the values are sorted by ascending order. We can change it to descending by adding an optional parameter \"reverse'."
      ]
    },
    {
      "cell_type": "code",
      "metadata": {
        "colab": {
          "base_uri": "https://localhost:8080/"
        },
        "id": "L0PAmflTK0tS",
        "outputId": "7f14a49f-6171-4b52-a94c-3dda95d45b94"
      },
      "source": [
        "price_list = [('AAPL', 144.09), ('GOOGL', 911.71), ('MSFT', 69), ('FB', 150), ('WMT', 75.32)]\n",
        "price_list2 = [('AAPL', 4), ('GOOGL', 3), ('MSFT', 3.5), ('FB', 7), ('WMT', 1)]\n",
        "sorted(price_list, key = lambda x: x[1], reverse = True)\n",
        "print(sorted(price_list2, key = lambda x: x[1], reverse=True))"
      ],
      "execution_count": 50,
      "outputs": [
        {
          "output_type": "stream",
          "name": "stdout",
          "text": [
            "[('FB', 7), ('AAPL', 4), ('MSFT', 3.5), ('GOOGL', 3), ('WMT', 1)]\n"
          ]
        }
      ]
    },
    {
      "cell_type": "markdown",
      "metadata": {
        "id": "hjthXdyGMSmx"
      },
      "source": [
        "Lists also have a function list.sort(). This function takes the same \"key\" and \"reverse\" arguments as sorted(), but it doesn't return a new list."
      ]
    },
    {
      "cell_type": "code",
      "metadata": {
        "colab": {
          "base_uri": "https://localhost:8080/"
        },
        "id": "P7I7rHEmMU3r",
        "outputId": "39d5dfee-e450-4478-c4f6-e6e0032a8648"
      },
      "source": [
        "price_list = [('AAPL', 144.09), ('GOOGL', 911.71), ('MSFT', 69), ('FB', 150), ('WMT', 75.32)]\n",
        "price_list2 = [('AAPL', 4), ('GOOGL', 3), ('MSFT', 3.5), ('FB', 7), ('WMT', 1)]\n",
        "price_list.sort(key = lambda x: x[1])\n",
        "price_list2.sort(key = lambda y: y[1])\n",
        "print(price_list)\n",
        "print(price_list2)"
      ],
      "execution_count": 51,
      "outputs": [
        {
          "output_type": "stream",
          "name": "stdout",
          "text": [
            "[('MSFT', 69), ('WMT', 75.32), ('AAPL', 144.09), ('FB', 150), ('GOOGL', 911.71)]\n",
            "[('WMT', 1), ('GOOGL', 3), ('MSFT', 3.5), ('AAPL', 4), ('FB', 7)]\n"
          ]
        }
      ]
    },
    {
      "cell_type": "markdown",
      "metadata": {
        "id": "2LVQAl_DPGsP"
      },
      "source": [
        "**Object-Oriented Programming**\n",
        "\n",
        "Python is an object-oriented programming language. It's important to understand the concept of \"objects\" because almost every kind of data from QuantConnect API is an object.\n",
        "\n",
        "Class\n",
        "A class is a type of data, just like a string, float, or list. When we create an object of that data type, we call it an instance of a class.\n",
        "\n",
        "In Python, everything is an object - everything is an instance of some class. The data stored inside an object are called attributes, and the functions which are associated with the object are called methods.\n",
        "\n",
        "For example, as mentioned above, a list is an object of the \"list\" class, and it has a method list.sort().\n",
        "\n",
        "We can create our own objects by defining a class. We would do this when it's helpful to group certain functions together. For example, we define a class named \"Stock\" here:"
      ]
    },
    {
      "cell_type": "code",
      "metadata": {
        "id": "Mv-XggToPSW9"
      },
      "source": [
        "class Stock:\n",
        "    def __init__(self, ticker, open, close, volume):\n",
        "        self.ticker = ticker\n",
        "        self.open = open\n",
        "        self.close = close\n",
        "        self.volume = volume\n",
        "        self.rate_return = float(close)/open - 1\n",
        "\n",
        "    def update(self, open, close):\n",
        "        self.open = open\n",
        "        self.close = close\n",
        "        self.rate_return = float(self.close)/self.open - 1\n",
        "\n",
        "    def print_return(self):\n",
        "        print(self.rate_return)"
      ],
      "execution_count": 52,
      "outputs": []
    },
    {
      "cell_type": "markdown",
      "metadata": {
        "id": "wtaKnFxYPcNP"
      },
      "source": [
        "The \"Stock\" class has attributes \"ticker\", \"open\", \"close\", \"volume\" and \"rate_return\". Inside the class body, the first method is called __init__, which is a special method. When we create a new instance of the class, the __init__ method is immediately executed with all the parameters that we pass to the \"Stock\" object. The purpose of this method is to set up a new \"Stock\" object using data we have provided.\n",
        "\n",
        "Here we create two Stock objects named \"apple\" and \"google\"."
      ]
    },
    {
      "cell_type": "code",
      "metadata": {
        "id": "zvE6bFltPebO"
      },
      "source": [
        "apple  = Stock('AAPL', 143.69, 144.09, 20109375)\n",
        "google = Stock('GOOGL', 898.7, 911.7, 1561616)\n",
        "samsung=Stock('GLX',23,25,55.45)"
      ],
      "execution_count": 53,
      "outputs": []
    },
    {
      "cell_type": "markdown",
      "metadata": {
        "id": "vtg2NhKvQJL4"
      },
      "source": [
        "Stock objects also have two other methods: update() and print_return(). We can access the attribues of a Stock object and call its methods:"
      ]
    },
    {
      "cell_type": "code",
      "metadata": {
        "colab": {
          "base_uri": "https://localhost:8080/"
        },
        "id": "4ZYMksIJQK6g",
        "outputId": "c08d83e4-7471-4207-e62d-1328f7fd23c2"
      },
      "source": [
        "apple.ticker\n",
        "google.print_return()\n",
        "google.update(912.8,913.4)\n",
        "google.print_return()\n",
        "samsung.open\n"
      ],
      "execution_count": 54,
      "outputs": [
        {
          "output_type": "stream",
          "name": "stdout",
          "text": [
            "0.014465338822744034\n",
            "0.0006573181419806673\n"
          ]
        },
        {
          "output_type": "execute_result",
          "data": {
            "text/plain": [
              "23"
            ]
          },
          "metadata": {},
          "execution_count": 54
        }
      ]
    },
    {
      "cell_type": "markdown",
      "metadata": {
        "id": "LBj726XUQ4gS"
      },
      "source": [
        "By calling the update() function, we updated the open and close prices of a stock. Please note that when we use the attributes or call the methods inside a class, we need to specify them as self.attribute or self.method(), otherwise Python will deem them as global variables and thus raise an error.\n",
        "\n",
        "We can add an attribute to an object anywhere:"
      ]
    },
    {
      "cell_type": "code",
      "metadata": {
        "colab": {
          "base_uri": "https://localhost:8080/"
        },
        "id": "AyRx4_DAQ6F2",
        "outputId": "a5d5e5e0-897f-4867-c7bc-03841d14f947"
      },
      "source": [
        "apple.ceo = 'Tim Cook'\n",
        "print(apple.ceo)\n",
        "samsung.ceo=\"galaxy\"\n",
        "print(samsung.ceo)\n"
      ],
      "execution_count": 55,
      "outputs": [
        {
          "output_type": "stream",
          "name": "stdout",
          "text": [
            "Tim Cook\n",
            "galaxy\n"
          ]
        }
      ]
    },
    {
      "cell_type": "markdown",
      "metadata": {
        "id": "6_IPP7VPRGwk"
      },
      "source": [
        "We can check what names (i.e. attributes and methods) are defined on an object using the dir() function:"
      ]
    },
    {
      "cell_type": "code",
      "metadata": {
        "colab": {
          "base_uri": "https://localhost:8080/"
        },
        "id": "0Qp_JDH-RIjp",
        "outputId": "3b76e6dd-e9bc-4a45-c56a-840b1729b69b"
      },
      "source": [
        "dir(apple)"
      ],
      "execution_count": 56,
      "outputs": [
        {
          "output_type": "execute_result",
          "data": {
            "text/plain": [
              "['__class__',\n",
              " '__delattr__',\n",
              " '__dict__',\n",
              " '__dir__',\n",
              " '__doc__',\n",
              " '__eq__',\n",
              " '__format__',\n",
              " '__ge__',\n",
              " '__getattribute__',\n",
              " '__gt__',\n",
              " '__hash__',\n",
              " '__init__',\n",
              " '__init_subclass__',\n",
              " '__le__',\n",
              " '__lt__',\n",
              " '__module__',\n",
              " '__ne__',\n",
              " '__new__',\n",
              " '__reduce__',\n",
              " '__reduce_ex__',\n",
              " '__repr__',\n",
              " '__setattr__',\n",
              " '__sizeof__',\n",
              " '__str__',\n",
              " '__subclasshook__',\n",
              " '__weakref__',\n",
              " 'ceo',\n",
              " 'close',\n",
              " 'open',\n",
              " 'print_return',\n",
              " 'rate_return',\n",
              " 'ticker',\n",
              " 'update',\n",
              " 'volume']"
            ]
          },
          "metadata": {},
          "execution_count": 56
        }
      ]
    },
    {
      "cell_type": "markdown",
      "metadata": {
        "id": "Yyv9u1fSRY9x"
      },
      "source": [
        "**Inheritance**\n",
        "\n",
        "Inheritance is a way of arranging classes in a hierarchy from the most general to the most specific. A \"child\" class is a more specific type of a \"parent\" class because a child class will inherit all the attribues and methods of its parent. For example, we define a class named \"Child\" which inherits \"Stock\":"
      ]
    },
    {
      "cell_type": "code",
      "metadata": {
        "id": "3P5klT-7RdGh"
      },
      "source": [
        "class Child(Stock):\n",
        "    def __init__(self, name):\n",
        "        self.name = name"
      ],
      "execution_count": 57,
      "outputs": []
    },
    {
      "cell_type": "markdown",
      "metadata": {
        "id": "CCxUEPsjRepW"
      },
      "source": [
        "Then we create an object:"
      ]
    },
    {
      "cell_type": "code",
      "metadata": {
        "colab": {
          "base_uri": "https://localhost:8080/"
        },
        "id": "ckH66fxhRgn6",
        "outputId": "ad9afe02-9f1f-430b-fd63-b3640120d374"
      },
      "source": [
        "aa = Child('AA')\n",
        "print(aa.name)\n",
        "aa.update(100, 102)\n",
        "print(aa.open)\n",
        "print(aa.close)\n",
        "print(aa.print_return())\n",
        "print(\"---------\")\n",
        "bb=Child(\"BB\")\n",
        "bb.rate_return=11\n",
        "print(bb.print_return())"
      ],
      "execution_count": 58,
      "outputs": [
        {
          "output_type": "stream",
          "name": "stdout",
          "text": [
            "AA\n",
            "100\n",
            "102\n",
            "0.020000000000000018\n",
            "None\n",
            "---------\n",
            "11\n",
            "None\n"
          ]
        }
      ]
    },
    {
      "cell_type": "markdown",
      "metadata": {
        "id": "D-A6TInRSLtQ"
      },
      "source": [
        "As seen above, the new class Child has inherited the methods from Stock."
      ]
    },
    {
      "cell_type": "markdown",
      "metadata": {
        "id": "lqHyhUMG0HOm"
      },
      "source": [
        "# NumPy and Basic Pandas"
      ]
    },
    {
      "cell_type": "markdown",
      "metadata": {
        "id": "P2PYZlLt0Lxp"
      },
      "source": [
        "**NumPy**\n",
        "\n",
        "NumPy is the core library for scientific computing in Python. It provides a high-performance multidimensional array object, and tools for working with these arrays. It also has strong integration with Pandas, which is another powerful tool for manipulating financial data.\n",
        "\n",
        "Python packages like NumPy and Pandas contain classes and methods which we can use by importing the package:"
      ]
    },
    {
      "cell_type": "code",
      "metadata": {
        "id": "HC_caML00O47"
      },
      "source": [
        "import numpy as np"
      ],
      "execution_count": 59,
      "outputs": []
    },
    {
      "cell_type": "markdown",
      "metadata": {
        "id": "FlsYqHTv0ZTj"
      },
      "source": [
        "**Basic NumPy Arrays**\n",
        "\n",
        "A NumPy array is a grid of values, all of the same type, and is indexed by a tuple of nonnegative integers. Here we make an array by passing a list of Apple stock prices:"
      ]
    },
    {
      "cell_type": "code",
      "metadata": {
        "colab": {
          "base_uri": "https://localhost:8080/"
        },
        "id": "6thTfmCV0bUN",
        "outputId": "2c115c39-b81c-44d4-e0f1-ae331ec8ec7a"
      },
      "source": [
        "price_list = [143.73, 145.83, 143.68, 144.02, 143.5, 142.62]\n",
        "price_array = np.array(price_list)\n",
        "print(price_array, type(price_array))"
      ],
      "execution_count": 60,
      "outputs": [
        {
          "output_type": "stream",
          "name": "stdout",
          "text": [
            "[143.73 145.83 143.68 144.02 143.5  142.62] <class 'numpy.ndarray'>\n"
          ]
        }
      ]
    },
    {
      "cell_type": "markdown",
      "metadata": {
        "id": "mKAjpNXW2A9u"
      },
      "source": [
        "Notice that the type of array is \"ndarray\" which is a multi-dimensional array. If we pass np.array() a list of lists, it will create a 2-dimensional array."
      ]
    },
    {
      "cell_type": "code",
      "metadata": {
        "colab": {
          "base_uri": "https://localhost:8080/"
        },
        "id": "sQ3LUtJg2cgC",
        "outputId": "3b925975-668e-489d-8891-30c150d65b3a"
      },
      "source": [
        "Ar = np.array([[1,3], [2,4]])\n",
        "print(Ar, type(Ar))\n"
      ],
      "execution_count": 61,
      "outputs": [
        {
          "output_type": "stream",
          "name": "stdout",
          "text": [
            "[[1 3]\n",
            " [2 4]] <class 'numpy.ndarray'>\n"
          ]
        }
      ]
    },
    {
      "cell_type": "markdown",
      "metadata": {
        "id": "ksosnsL22tKe"
      },
      "source": [
        "We get the dimensions of an ndarray using the .shape attribute:"
      ]
    },
    {
      "cell_type": "code",
      "metadata": {
        "colab": {
          "base_uri": "https://localhost:8080/"
        },
        "id": "iWERWCMk2v5R",
        "outputId": "b74a56c4-c2d8-491e-af37-d64ad4c746e7"
      },
      "source": [
        "print(Ar.shape)"
      ],
      "execution_count": 62,
      "outputs": [
        {
          "output_type": "stream",
          "name": "stdout",
          "text": [
            "(2, 2)\n"
          ]
        }
      ]
    },
    {
      "cell_type": "markdown",
      "metadata": {
        "id": "5HBAZRPQ20jm"
      },
      "source": [
        "If we create an 2-dimensional array (i.e. matrix), each row can be accessed by index:"
      ]
    },
    {
      "cell_type": "code",
      "metadata": {
        "id": "lRNbYkZN22RQ",
        "colab": {
          "base_uri": "https://localhost:8080/"
        },
        "outputId": "4896f913-9494-43dc-f1e5-55c36d548cf4"
      },
      "source": [
        "print(Ar[0])\n",
        "\n",
        "print(Ar[1])\n"
      ],
      "execution_count": 63,
      "outputs": [
        {
          "output_type": "stream",
          "name": "stdout",
          "text": [
            "[1 3]\n",
            "[2 4]\n"
          ]
        }
      ]
    },
    {
      "cell_type": "markdown",
      "metadata": {
        "id": "ienqq6RO2_fb"
      },
      "source": [
        "If we want to access the matrix by column instead:"
      ]
    },
    {
      "cell_type": "code",
      "metadata": {
        "colab": {
          "base_uri": "https://localhost:8080/"
        },
        "id": "hbBJpb2t3ArB",
        "outputId": "0baecafc-a526-4460-b3ee-06fc48577457"
      },
      "source": [
        "print('First column:', Ar[:,0])\n",
        "print('Second column:', Ar[:,1])\n",
        "print(Ar[1,1])\n"
      ],
      "execution_count": 64,
      "outputs": [
        {
          "output_type": "stream",
          "name": "stdout",
          "text": [
            "First column: [1 2]\n",
            "Second column: [3 4]\n",
            "4\n"
          ]
        }
      ]
    },
    {
      "cell_type": "markdown",
      "metadata": {
        "id": "GF293Ius3e9A"
      },
      "source": [
        "**Array Functions**\n",
        "\n",
        "Some functions built in NumPy that allow us to perform calculations on arrays. For example, we can apply the natural logarithm to each element of an array:\n",
        "\n"
      ]
    },
    {
      "cell_type": "code",
      "metadata": {
        "colab": {
          "base_uri": "https://localhost:8080/"
        },
        "id": "Bpon6JE73h2a",
        "outputId": "d8782523-6f1b-4c3f-9544-a365c7809abe"
      },
      "source": [
        "np.log(price_array)"
      ],
      "execution_count": 65,
      "outputs": [
        {
          "output_type": "execute_result",
          "data": {
            "text/plain": [
              "array([4.96793654, 4.98244156, 4.9675886 , 4.96995218, 4.96633504,\n",
              "       4.96018375])"
            ]
          },
          "metadata": {},
          "execution_count": 65
        }
      ]
    },
    {
      "cell_type": "markdown",
      "metadata": {
        "id": "L_-1fWx53xbN"
      },
      "source": [
        "Other functions return a single value:"
      ]
    },
    {
      "cell_type": "code",
      "metadata": {
        "colab": {
          "base_uri": "https://localhost:8080/"
        },
        "id": "rM4pN9LG3zXJ",
        "outputId": "e96c3bbf-0940-4818-a97c-0f062a83707f"
      },
      "source": [
        "np.mean(price_array)\n",
        "print(np.std(price_array))\n",
        "print(np.sum(price_array))\n",
        "print(np.max(price_array))\n"
      ],
      "execution_count": 66,
      "outputs": [
        {
          "output_type": "stream",
          "name": "stdout",
          "text": [
            "0.9673790478515796\n",
            "863.38\n",
            "145.83\n"
          ]
        }
      ]
    },
    {
      "cell_type": "markdown",
      "metadata": {
        "id": "vZr4iTX64q6B"
      },
      "source": [
        "The functions above return the mean, standard deviation, total and maximum value of an array."
      ]
    },
    {
      "cell_type": "markdown",
      "metadata": {
        "id": "pEN0K6jP4sjc"
      },
      "source": [
        "**Pandas**\n",
        "\n",
        "Pandas is one of the most powerful tools for dealing with financial data. First we need to import Pandas:\n",
        "\n"
      ]
    },
    {
      "cell_type": "code",
      "metadata": {
        "id": "-vUvy0vC4vBI"
      },
      "source": [
        "import pandas as pd"
      ],
      "execution_count": 67,
      "outputs": []
    },
    {
      "cell_type": "markdown",
      "metadata": {
        "id": "US-ji1MQ5K3a"
      },
      "source": [
        "**Series**\n",
        "\n",
        "Series is a one-dimensional labeled array capable of holding any data type (integers, strings, float, Python object, etc.)\n",
        "\n",
        "We create a Series by calling pd.Series(data), where data can be a dictionary, an array or just a scalar value."
      ]
    },
    {
      "cell_type": "code",
      "metadata": {
        "colab": {
          "base_uri": "https://localhost:8080/"
        },
        "id": "KoGhB9B85uQA",
        "outputId": "cdcbfe60-59a9-4fdc-f4f6-c9d2a6cc5ce3"
      },
      "source": [
        "price = [143.73, 145.83, 143.68, 144.02, 143.5, 142.62]\n",
        "s = pd.Series(price)\n",
        "print(s)"
      ],
      "execution_count": 68,
      "outputs": [
        {
          "output_type": "stream",
          "name": "stdout",
          "text": [
            "0    143.73\n",
            "1    145.83\n",
            "2    143.68\n",
            "3    144.02\n",
            "4    143.50\n",
            "5    142.62\n",
            "dtype: float64\n"
          ]
        }
      ]
    },
    {
      "cell_type": "markdown",
      "metadata": {
        "id": "p0nCCfor69kC"
      },
      "source": [
        "We can customize the indices of a new Series:"
      ]
    },
    {
      "cell_type": "code",
      "metadata": {
        "colab": {
          "base_uri": "https://localhost:8080/"
        },
        "id": "PUdfYiGm6-OO",
        "outputId": "53950083-525c-4783-d0c6-2c6d207de939"
      },
      "source": [
        "s = pd.Series(price, index = ['a', 'b', 'c', 'd', 'e', 'f'])\n",
        "s2 = pd.Series(price, index = ['/', '*', '?', '¿', '|', '-'])\n",
        "print(s)\n",
        "print(s2)"
      ],
      "execution_count": 69,
      "outputs": [
        {
          "output_type": "stream",
          "name": "stdout",
          "text": [
            "a    143.73\n",
            "b    145.83\n",
            "c    143.68\n",
            "d    144.02\n",
            "e    143.50\n",
            "f    142.62\n",
            "dtype: float64\n",
            "/    143.73\n",
            "*    145.83\n",
            "?    143.68\n",
            "¿    144.02\n",
            "|    143.50\n",
            "-    142.62\n",
            "dtype: float64\n"
          ]
        }
      ]
    },
    {
      "cell_type": "markdown",
      "metadata": {
        "id": "K0ot0AnL7bCM"
      },
      "source": [
        "Or we can change the indices of an existing Series:"
      ]
    },
    {
      "cell_type": "code",
      "metadata": {
        "colab": {
          "base_uri": "https://localhost:8080/"
        },
        "id": "qzMubKBs7coB",
        "outputId": "311ea582-1f53-4b19-b174-7e8362bc1e78"
      },
      "source": [
        "s.index = [6,5,4,3,2,1]\n",
        "print(s)"
      ],
      "execution_count": 70,
      "outputs": [
        {
          "output_type": "stream",
          "name": "stdout",
          "text": [
            "6    143.73\n",
            "5    145.83\n",
            "4    143.68\n",
            "3    144.02\n",
            "2    143.50\n",
            "1    142.62\n",
            "dtype: float64\n"
          ]
        }
      ]
    },
    {
      "cell_type": "markdown",
      "metadata": {
        "id": "0sufiEtb7wGK"
      },
      "source": [
        "Series is like a list since it can be sliced by index:"
      ]
    },
    {
      "cell_type": "code",
      "metadata": {
        "colab": {
          "base_uri": "https://localhost:8080/"
        },
        "id": "AQJERdcU7zLD",
        "outputId": "10f3b4a5-e78d-4150-ef2c-951fae7fe764"
      },
      "source": [
        "print(s[1:])\n",
        "print(s[:-2])\n",
        "print(s2[1:3])"
      ],
      "execution_count": 71,
      "outputs": [
        {
          "output_type": "stream",
          "name": "stdout",
          "text": [
            "5    145.83\n",
            "4    143.68\n",
            "3    144.02\n",
            "2    143.50\n",
            "1    142.62\n",
            "dtype: float64\n",
            "6    143.73\n",
            "5    145.83\n",
            "4    143.68\n",
            "3    144.02\n",
            "dtype: float64\n",
            "*    145.83\n",
            "?    143.68\n",
            "dtype: float64\n"
          ]
        }
      ]
    },
    {
      "cell_type": "markdown",
      "metadata": {
        "id": "nRikjPfK9uhd"
      },
      "source": [
        "Series is also like a dictionary whose values can be set or fetched by index label:"
      ]
    },
    {
      "cell_type": "code",
      "metadata": {
        "colab": {
          "base_uri": "https://localhost:8080/"
        },
        "id": "yBBDALTf9wm2",
        "outputId": "bc6ae917-ea82-49d8-f03f-781001e24681"
      },
      "source": [
        "print(s[4])\n",
        "s[4] = 0\n",
        "s2[0]=123124\n",
        "print(s)\n",
        "print(s2)"
      ],
      "execution_count": 72,
      "outputs": [
        {
          "output_type": "stream",
          "name": "stdout",
          "text": [
            "143.68\n",
            "6    143.73\n",
            "5    145.83\n",
            "4      0.00\n",
            "3    144.02\n",
            "2    143.50\n",
            "1    142.62\n",
            "dtype: float64\n",
            "/    123124.00\n",
            "*       145.83\n",
            "?       143.68\n",
            "¿       144.02\n",
            "|       143.50\n",
            "-       142.62\n",
            "dtype: float64\n"
          ]
        }
      ]
    },
    {
      "cell_type": "markdown",
      "metadata": {
        "id": "jpRSYs5g-IuS"
      },
      "source": [
        "Series can also have a name attribute, which will be used when we make up a Pandas DataFrame using several series.\n",
        "\n"
      ]
    },
    {
      "cell_type": "code",
      "metadata": {
        "colab": {
          "base_uri": "https://localhost:8080/"
        },
        "id": "XKrNzuKS-H7e",
        "outputId": "a19aad1d-a74e-445e-d9b3-a28a452352c7"
      },
      "source": [
        "s = pd.Series(price, name = 'Apple Prices')\n",
        "print(s)\n",
        "print(s.name)"
      ],
      "execution_count": 73,
      "outputs": [
        {
          "output_type": "stream",
          "name": "stdout",
          "text": [
            "0    143.73\n",
            "1    145.83\n",
            "2    143.68\n",
            "3    144.02\n",
            "4    143.50\n",
            "5    142.62\n",
            "Name: Apple Prices, dtype: float64\n",
            "Apple Prices\n"
          ]
        }
      ]
    },
    {
      "cell_type": "markdown",
      "metadata": {
        "id": "Imsg-9P_AEhs"
      },
      "source": [
        "We can get the statistical summaries of a Series:"
      ]
    },
    {
      "cell_type": "code",
      "metadata": {
        "colab": {
          "base_uri": "https://localhost:8080/"
        },
        "id": "jvIeyHzFAFO7",
        "outputId": "7a8ebc34-50f9-4374-efc1-7b5e7eb2fb75"
      },
      "source": [
        "print(s.describe())\n",
        "print(\"------\")\n",
        "print(s2.describe())"
      ],
      "execution_count": 74,
      "outputs": [
        {
          "output_type": "stream",
          "name": "stdout",
          "text": [
            "count      6.000000\n",
            "mean     143.896667\n",
            "std        1.059711\n",
            "min      142.620000\n",
            "25%      143.545000\n",
            "50%      143.705000\n",
            "75%      143.947500\n",
            "max      145.830000\n",
            "Name: Apple Prices, dtype: float64\n",
            "------\n",
            "count         6.000000\n",
            "mean      20640.608333\n",
            "std       50206.403350\n",
            "min         142.620000\n",
            "25%         143.545000\n",
            "50%         143.850000\n",
            "75%         145.377500\n",
            "max      123124.000000\n",
            "dtype: float64\n"
          ]
        }
      ]
    },
    {
      "cell_type": "markdown",
      "metadata": {
        "id": "WxY8W6s3A_Oy"
      },
      "source": [
        "**Time Index**\n",
        "\n",
        "Pandas has a built-in function specifically for creating date indices: pd.date_range(). We use it to create a new index for our Series:"
      ]
    },
    {
      "cell_type": "code",
      "metadata": {
        "colab": {
          "base_uri": "https://localhost:8080/"
        },
        "id": "MGytqSgMBD1m",
        "outputId": "0b2dd8c2-4bf9-4e9b-ef4e-62deb61fbc86"
      },
      "source": [
        "time_index = pd.date_range('2017-01-01', periods = len(s), freq = 'D')\n",
        "time_index2 = pd.date_range('2017-01-01', periods = len(s), freq = 'M')\n",
        "print(time_index)\n",
        "s.index = time_index\n",
        "print(s)\n",
        "print(\"----------\")\n",
        "print(time_index2)"
      ],
      "execution_count": 75,
      "outputs": [
        {
          "output_type": "stream",
          "name": "stdout",
          "text": [
            "DatetimeIndex(['2017-01-01', '2017-01-02', '2017-01-03', '2017-01-04',\n",
            "               '2017-01-05', '2017-01-06'],\n",
            "              dtype='datetime64[ns]', freq='D')\n",
            "2017-01-01    143.73\n",
            "2017-01-02    145.83\n",
            "2017-01-03    143.68\n",
            "2017-01-04    144.02\n",
            "2017-01-05    143.50\n",
            "2017-01-06    142.62\n",
            "Freq: D, Name: Apple Prices, dtype: float64\n",
            "----------\n",
            "DatetimeIndex(['2017-01-31', '2017-02-28', '2017-03-31', '2017-04-30',\n",
            "               '2017-05-31', '2017-06-30'],\n",
            "              dtype='datetime64[ns]', freq='M')\n"
          ]
        }
      ]
    },
    {
      "cell_type": "markdown",
      "metadata": {
        "id": "qtUDssN2Dwv9"
      },
      "source": [
        "Series are usually accessed using the iloc[] and loc[] methods. iloc[] is used to access elements by integer index, and loc[] is used to access the index of the series.\n",
        "\n",
        "iloc[] is necessary when the index of a series are integers, take our previous defined series as example:"
      ]
    },
    {
      "cell_type": "code",
      "metadata": {
        "colab": {
          "base_uri": "https://localhost:8080/"
        },
        "id": "6saJblxyDzEs",
        "outputId": "b8f56920-ae7b-4a19-e580-c6129e7b08f8"
      },
      "source": [
        "s.index = [6,5,4,3,2,1]\n",
        "print(s)\n",
        "print(s[1])"
      ],
      "execution_count": 76,
      "outputs": [
        {
          "output_type": "stream",
          "name": "stdout",
          "text": [
            "6    143.73\n",
            "5    145.83\n",
            "4    143.68\n",
            "3    144.02\n",
            "2    143.50\n",
            "1    142.62\n",
            "Name: Apple Prices, dtype: float64\n",
            "142.62\n"
          ]
        }
      ]
    },
    {
      "cell_type": "markdown",
      "metadata": {
        "id": "lz6XIdLhEtvQ"
      },
      "source": [
        "If we intended to take the second element of the series, we would make a mistake here, because the index are integers. In order to access to the element we want, we use iloc[] here:"
      ]
    },
    {
      "cell_type": "code",
      "metadata": {
        "colab": {
          "base_uri": "https://localhost:8080/"
        },
        "id": "RpPSpZYaEvUG",
        "outputId": "eb56efdf-91c8-4831-ba0e-1bdaba83b650"
      },
      "source": [
        "print(s.iloc[1])\n",
        "print(s.iloc[4])"
      ],
      "execution_count": 77,
      "outputs": [
        {
          "output_type": "stream",
          "name": "stdout",
          "text": [
            "145.83\n",
            "143.5\n"
          ]
        }
      ]
    },
    {
      "cell_type": "markdown",
      "metadata": {
        "id": "WyjTxqFOF0Lh"
      },
      "source": [
        "While working with time series data, we often use time as the index. Pandas provides us with various methods to access the data by time index.\n",
        "\n"
      ]
    },
    {
      "cell_type": "code",
      "metadata": {
        "colab": {
          "base_uri": "https://localhost:8080/"
        },
        "id": "TuHbMA5VGnbF",
        "outputId": "ba94ad2d-469a-409e-b599-42d9de97e3f3"
      },
      "source": [
        "s.index = time_index\n",
        "s2.index=time_index2\n",
        "print(s['2017-01-03'])\n",
        "print(s2[\"2017-05-31\"])"
      ],
      "execution_count": 78,
      "outputs": [
        {
          "output_type": "stream",
          "name": "stdout",
          "text": [
            "143.68\n",
            "143.5\n"
          ]
        }
      ]
    },
    {
      "cell_type": "markdown",
      "metadata": {
        "id": "PH4zgPanHR-2"
      },
      "source": [
        "We can even access to a range of dates:"
      ]
    },
    {
      "cell_type": "code",
      "metadata": {
        "colab": {
          "base_uri": "https://localhost:8080/"
        },
        "id": "FWj5vYp7HSfv",
        "outputId": "85c0abd8-e2bf-4132-c6c0-fa7f0b4499f3"
      },
      "source": [
        "print(s['2017-01-02':'2017-01-05'])\n"
      ],
      "execution_count": 79,
      "outputs": [
        {
          "output_type": "stream",
          "name": "stdout",
          "text": [
            "2017-01-02    145.83\n",
            "2017-01-03    143.68\n",
            "2017-01-04    144.02\n",
            "2017-01-05    143.50\n",
            "Freq: D, Name: Apple Prices, dtype: float64\n"
          ]
        }
      ]
    },
    {
      "cell_type": "markdown",
      "metadata": {
        "id": "CwuO5IZLIAmk"
      },
      "source": [
        "Series[] provides us a very flexible way to index data. We can add any condition in the square brackets:"
      ]
    },
    {
      "cell_type": "code",
      "metadata": {
        "colab": {
          "base_uri": "https://localhost:8080/"
        },
        "id": "EtTJKNk7ICn8",
        "outputId": "f752ed67-6cde-4a7c-d187-36f746a62f27"
      },
      "source": [
        "print(s[s < np.mean(s)])\n",
        "print(s[(s > np.mean(s)) & (s < np.mean(s) + 1.64*np.std(s))])\n"
      ],
      "execution_count": 80,
      "outputs": [
        {
          "output_type": "stream",
          "name": "stdout",
          "text": [
            "2017-01-01    143.73\n",
            "2017-01-03    143.68\n",
            "2017-01-05    143.50\n",
            "2017-01-06    142.62\n",
            "Name: Apple Prices, dtype: float64\n",
            "2017-01-04    144.02\n",
            "Freq: D, Name: Apple Prices, dtype: float64\n"
          ]
        }
      ]
    },
    {
      "cell_type": "markdown",
      "metadata": {
        "id": "0DKbx_hmJ9hO"
      },
      "source": [
        "As demonstrated, we can use logical operators like & (and), | (or) and ~ (not) to group multiple conditions."
      ]
    },
    {
      "cell_type": "markdown",
      "metadata": {
        "id": "bpJnMlfFPJKQ"
      },
      "source": [
        "# Pandas-Resampling and DataFrame"
      ]
    },
    {
      "cell_type": "markdown",
      "metadata": {
        "id": "FIwY-xr8S4gQ"
      },
      "source": [
        "**Fetching Data**\n",
        "\n",
        "Here we use the Yahoo Finance to retrieve data.\n",
        "\n"
      ]
    },
    {
      "cell_type": "code",
      "metadata": {
        "colab": {
          "base_uri": "https://localhost:8080/"
        },
        "id": "Z4RyR-u2Rth1",
        "outputId": "ee0d659d-5132-42a6-a2bf-991a1122f5f5"
      },
      "source": [
        "!pip install yfinance"
      ],
      "execution_count": 81,
      "outputs": [
        {
          "output_type": "stream",
          "name": "stdout",
          "text": [
            "Collecting yfinance\n",
            "  Downloading yfinance-0.1.63.tar.gz (26 kB)\n",
            "Requirement already satisfied: pandas>=0.24 in /usr/local/lib/python3.7/dist-packages (from yfinance) (1.1.5)\n",
            "Requirement already satisfied: numpy>=1.15 in /usr/local/lib/python3.7/dist-packages (from yfinance) (1.19.5)\n",
            "Requirement already satisfied: requests>=2.20 in /usr/local/lib/python3.7/dist-packages (from yfinance) (2.23.0)\n",
            "Requirement already satisfied: multitasking>=0.0.7 in /usr/local/lib/python3.7/dist-packages (from yfinance) (0.0.9)\n",
            "Collecting lxml>=4.5.1\n",
            "  Downloading lxml-4.6.3-cp37-cp37m-manylinux2014_x86_64.whl (6.3 MB)\n",
            "\u001b[K     |████████████████████████████████| 6.3 MB 10.8 MB/s \n",
            "\u001b[?25hRequirement already satisfied: pytz>=2017.2 in /usr/local/lib/python3.7/dist-packages (from pandas>=0.24->yfinance) (2018.9)\n",
            "Requirement already satisfied: python-dateutil>=2.7.3 in /usr/local/lib/python3.7/dist-packages (from pandas>=0.24->yfinance) (2.8.2)\n",
            "Requirement already satisfied: six>=1.5 in /usr/local/lib/python3.7/dist-packages (from python-dateutil>=2.7.3->pandas>=0.24->yfinance) (1.15.0)\n",
            "Requirement already satisfied: idna<3,>=2.5 in /usr/local/lib/python3.7/dist-packages (from requests>=2.20->yfinance) (2.10)\n",
            "Requirement already satisfied: chardet<4,>=3.0.2 in /usr/local/lib/python3.7/dist-packages (from requests>=2.20->yfinance) (3.0.4)\n",
            "Requirement already satisfied: certifi>=2017.4.17 in /usr/local/lib/python3.7/dist-packages (from requests>=2.20->yfinance) (2021.5.30)\n",
            "Requirement already satisfied: urllib3!=1.25.0,!=1.25.1,<1.26,>=1.21.1 in /usr/local/lib/python3.7/dist-packages (from requests>=2.20->yfinance) (1.24.3)\n",
            "Building wheels for collected packages: yfinance\n",
            "  Building wheel for yfinance (setup.py) ... \u001b[?25l\u001b[?25hdone\n",
            "  Created wheel for yfinance: filename=yfinance-0.1.63-py2.py3-none-any.whl size=23918 sha256=377882abf9b063f6ad4114d0925ce1b44bca52ae80ccb1bcec5004a86de2275b\n",
            "  Stored in directory: /root/.cache/pip/wheels/fe/87/8b/7ec24486e001d3926537f5f7801f57a74d181be25b11157983\n",
            "Successfully built yfinance\n",
            "Installing collected packages: lxml, yfinance\n",
            "  Attempting uninstall: lxml\n",
            "    Found existing installation: lxml 4.2.6\n",
            "    Uninstalling lxml-4.2.6:\n",
            "      Successfully uninstalled lxml-4.2.6\n",
            "Successfully installed lxml-4.6.3 yfinance-0.1.63\n"
          ]
        }
      ]
    },
    {
      "cell_type": "code",
      "metadata": {
        "colab": {
          "base_uri": "https://localhost:8080/",
          "height": 484
        },
        "id": "ICBCRcL7Sshk",
        "outputId": "e90a4f65-ba74-409e-8ca3-70cc8b0385fa"
      },
      "source": [
        "import yfinance as yf\n",
        "aapl = yf.Ticker(\"AAPL\")\n",
        "\n",
        "# get stock info\n",
        "print(aapl.info)\n",
        "\n",
        "# get historical market data\n",
        "aapl_table = aapl.history(start=\"2016-01-01\",  end=\"2017-12-31\")\n",
        "aapl_table"
      ],
      "execution_count": 82,
      "outputs": [
        {
          "output_type": "stream",
          "name": "stdout",
          "text": [
            "{'zip': '95014', 'sector': 'Technology', 'fullTimeEmployees': 147000, 'longBusinessSummary': 'Apple Inc. designs, manufactures, and markets smartphones, personal computers, tablets, wearables, and accessories worldwide. It also sells various related services. The company offers iPhone, a line of smartphones; Mac, a line of personal computers; iPad, a line of multi-purpose tablets; and wearables, home, and accessories comprising AirPods, Apple TV, Apple Watch, Beats products, HomePod, iPod touch, and other Apple-branded and third-party accessories. It also provides AppleCare support services; cloud services store services; and operates various platforms, including the App Store, that allow customers to discover and download applications and digital content, such as books, music, video, games, and podcasts. In addition, the company offers various services, such as Apple Arcade, a game subscription service; Apple Music, which offers users a curated listening experience with on-demand radio stations; Apple News+, a subscription news and magazine service; Apple TV+, which offers exclusive original content; Apple Card, a co-branded credit card; and Apple Pay, a cashless payment service, as well as licenses its intellectual property. The company serves consumers, and small and mid-sized businesses; and the education, enterprise, and government markets. It sells and delivers third-party applications for its products through the App Store. The company also sells its products through its retail and online stores, and direct sales force; and third-party cellular network carriers, wholesalers, retailers, and resellers. Apple Inc. was founded in 1977 and is headquartered in Cupertino, California.', 'city': 'Cupertino', 'phone': '408-996-1010', 'state': 'CA', 'country': 'United States', 'companyOfficers': [], 'website': 'http://www.apple.com', 'maxAge': 1, 'address1': 'One Apple Park Way', 'industry': 'Consumer Electronics', 'ebitdaMargins': 0.31955, 'profitMargins': 0.25004, 'grossMargins': 0.41005, 'operatingCashflow': 104414003200, 'revenueGrowth': 0.364, 'operatingMargins': 0.28788, 'ebitda': 110934999040, 'targetLowPrice': 132, 'recommendationKey': 'buy', 'grossProfits': 104956000000, 'freeCashflow': 80625876992, 'targetMedianPrice': 169.64, 'currentPrice': 144.245, 'earningsGrowth': 1, 'currentRatio': 1.062, 'returnOnAssets': 0.19302, 'numberOfAnalystOpinions': 42, 'targetMeanPrice': 167.92, 'debtToEquity': 210.782, 'returnOnEquity': 1.27125, 'targetHighPrice': 190, 'totalCash': 61696000000, 'totalDebt': 135491002368, 'totalRevenue': 347155005440, 'totalCashPerShare': 3.732, 'financialCurrency': 'USD', 'revenuePerShare': 20.61, 'quickRatio': 0.887, 'recommendationMean': 1.9, 'exchange': 'NMS', 'shortName': 'Apple Inc.', 'longName': 'Apple Inc.', 'exchangeTimezoneName': 'America/New_York', 'exchangeTimezoneShortName': 'EDT', 'isEsgPopulated': False, 'gmtOffSetMilliseconds': '-14400000', 'quoteType': 'EQUITY', 'symbol': 'AAPL', 'messageBoardId': 'finmb_24937', 'market': 'us_market', 'annualHoldingsTurnover': None, 'enterpriseToRevenue': 6.951, 'beta3Year': None, 'enterpriseToEbitda': 21.751, '52WeekChange': 0.20786417, 'morningStarRiskRating': None, 'forwardEps': 5.68, 'revenueQuarterlyGrowth': None, 'sharesOutstanding': 16530199552, 'fundInceptionDate': None, 'annualReportExpenseRatio': None, 'totalAssets': None, 'bookValue': 3.882, 'sharesShort': 101107412, 'sharesPercentSharesOut': 0.0061000003, 'fundFamily': None, 'lastFiscalYearEnd': 1601078400, 'heldPercentInstitutions': 0.5869, 'netIncomeToCommon': 86801997824, 'trailingEps': 5.108, 'lastDividendValue': 0.22, 'SandP52WeekChange': 0.27396727, 'priceToBook': 37.15739, 'heldPercentInsiders': 0.00072999997, 'nextFiscalYearEnd': 1664150400, 'yield': None, 'mostRecentQuarter': 1624665600, 'shortRatio': 1.18, 'sharesShortPreviousMonthDate': 1630368000, 'floatShares': 16512974627, 'beta': 1.222222, 'enterpriseValue': 2412978896896, 'priceHint': 2, 'threeYearAverageReturn': None, 'lastSplitDate': 1598832000, 'lastSplitFactor': '4:1', 'legalType': None, 'lastDividendDate': 1628208000, 'morningStarOverallRating': None, 'earningsQuarterlyGrowth': 0.932, 'priceToSalesTrailing12Months': 6.8683977, 'dateShortInterest': 1632960000, 'pegRatio': 1.38, 'ytdReturn': None, 'forwardPE': 25.395247, 'lastCapGain': None, 'shortPercentOfFloat': 0.0061000003, 'sharesShortPriorMonth': 96838699, 'impliedSharesOutstanding': None, 'category': None, 'fiveYearAverageReturn': None, 'previousClose': 143.76, 'regularMarketOpen': 143.77, 'twoHundredDayAverage': 138.34735, 'trailingAnnualDividendYield': 0.0058082915, 'payoutRatio': 0.16309999, 'volume24Hr': None, 'regularMarketDayHigh': 144.69, 'navPrice': None, 'averageDailyVolume10Day': 71327875, 'regularMarketPreviousClose': 143.76, 'fiftyDayAverage': 146.73143, 'trailingAnnualDividendRate': 0.835, 'open': 143.77, 'toCurrency': None, 'averageVolume10days': 71327875, 'expireDate': None, 'algorithm': None, 'dividendRate': 0.88, 'exDividendDate': 1628208000, 'circulatingSupply': None, 'startDate': None, 'regularMarketDayLow': 143.515, 'currency': 'USD', 'trailingPE': 28.239037, 'regularMarketVolume': 38730666, 'lastMarket': None, 'maxSupply': None, 'openInterest': None, 'marketCap': 2384398647296, 'volumeAllCurrencies': None, 'strikePrice': None, 'averageVolume': 78256850, 'dayLow': 143.515, 'ask': 144.2, 'askSize': 900, 'volume': 38730666, 'fiftyTwoWeekHigh': 157.26, 'fromCurrency': None, 'fiveYearAvgDividendYield': 1.24, 'fiftyTwoWeekLow': 107.32, 'bid': 144.19, 'tradeable': False, 'dividendYield': 0.0062, 'bidSize': 900, 'dayHigh': 144.69, 'regularMarketPrice': 144.245, 'logo_url': 'https://logo.clearbit.com/apple.com'}\n"
          ]
        },
        {
          "output_type": "execute_result",
          "data": {
            "text/html": [
              "<div>\n",
              "<style scoped>\n",
              "    .dataframe tbody tr th:only-of-type {\n",
              "        vertical-align: middle;\n",
              "    }\n",
              "\n",
              "    .dataframe tbody tr th {\n",
              "        vertical-align: top;\n",
              "    }\n",
              "\n",
              "    .dataframe thead th {\n",
              "        text-align: right;\n",
              "    }\n",
              "</style>\n",
              "<table border=\"1\" class=\"dataframe\">\n",
              "  <thead>\n",
              "    <tr style=\"text-align: right;\">\n",
              "      <th></th>\n",
              "      <th>Open</th>\n",
              "      <th>High</th>\n",
              "      <th>Low</th>\n",
              "      <th>Close</th>\n",
              "      <th>Volume</th>\n",
              "      <th>Dividends</th>\n",
              "      <th>Stock Splits</th>\n",
              "    </tr>\n",
              "    <tr>\n",
              "      <th>Date</th>\n",
              "      <th></th>\n",
              "      <th></th>\n",
              "      <th></th>\n",
              "      <th></th>\n",
              "      <th></th>\n",
              "      <th></th>\n",
              "      <th></th>\n",
              "    </tr>\n",
              "  </thead>\n",
              "  <tbody>\n",
              "    <tr>\n",
              "      <th>2016-01-04</th>\n",
              "      <td>23.655164</td>\n",
              "      <td>24.291441</td>\n",
              "      <td>23.514538</td>\n",
              "      <td>24.286829</td>\n",
              "      <td>270597600</td>\n",
              "      <td>0.0</td>\n",
              "      <td>0</td>\n",
              "    </tr>\n",
              "    <tr>\n",
              "      <th>2016-01-05</th>\n",
              "      <td>24.379048</td>\n",
              "      <td>24.402102</td>\n",
              "      <td>23.609063</td>\n",
              "      <td>23.678223</td>\n",
              "      <td>223164000</td>\n",
              "      <td>0.0</td>\n",
              "      <td>0</td>\n",
              "    </tr>\n",
              "    <tr>\n",
              "      <th>2016-01-06</th>\n",
              "      <td>23.182563</td>\n",
              "      <td>23.599832</td>\n",
              "      <td>23.023496</td>\n",
              "      <td>23.214838</td>\n",
              "      <td>273829600</td>\n",
              "      <td>0.0</td>\n",
              "      <td>0</td>\n",
              "    </tr>\n",
              "    <tr>\n",
              "      <th>2016-01-07</th>\n",
              "      <td>22.749162</td>\n",
              "      <td>23.083437</td>\n",
              "      <td>22.230459</td>\n",
              "      <td>22.235069</td>\n",
              "      <td>324377600</td>\n",
              "      <td>0.0</td>\n",
              "      <td>0</td>\n",
              "    </tr>\n",
              "    <tr>\n",
              "      <th>2016-01-08</th>\n",
              "      <td>22.719197</td>\n",
              "      <td>22.848296</td>\n",
              "      <td>22.306540</td>\n",
              "      <td>22.352646</td>\n",
              "      <td>283192000</td>\n",
              "      <td>0.0</td>\n",
              "      <td>0</td>\n",
              "    </tr>\n",
              "    <tr>\n",
              "      <th>...</th>\n",
              "      <td>...</td>\n",
              "      <td>...</td>\n",
              "      <td>...</td>\n",
              "      <td>...</td>\n",
              "      <td>...</td>\n",
              "      <td>...</td>\n",
              "      <td>...</td>\n",
              "    </tr>\n",
              "    <tr>\n",
              "      <th>2017-12-22</th>\n",
              "      <td>41.827752</td>\n",
              "      <td>42.004949</td>\n",
              "      <td>41.784653</td>\n",
              "      <td>41.906773</td>\n",
              "      <td>65397600</td>\n",
              "      <td>0.0</td>\n",
              "      <td>0</td>\n",
              "    </tr>\n",
              "    <tr>\n",
              "      <th>2017-12-26</th>\n",
              "      <td>40.898678</td>\n",
              "      <td>41.059112</td>\n",
              "      <td>40.630488</td>\n",
              "      <td>40.843605</td>\n",
              "      <td>132742000</td>\n",
              "      <td>0.0</td>\n",
              "      <td>0</td>\n",
              "    </tr>\n",
              "    <tr>\n",
              "      <th>2017-12-27</th>\n",
              "      <td>40.731061</td>\n",
              "      <td>40.893888</td>\n",
              "      <td>40.637675</td>\n",
              "      <td>40.850788</td>\n",
              "      <td>85992800</td>\n",
              "      <td>0.0</td>\n",
              "      <td>0</td>\n",
              "    </tr>\n",
              "    <tr>\n",
              "      <th>2017-12-28</th>\n",
              "      <td>40.946564</td>\n",
              "      <td>41.150101</td>\n",
              "      <td>40.822048</td>\n",
              "      <td>40.965721</td>\n",
              "      <td>65920800</td>\n",
              "      <td>0.0</td>\n",
              "      <td>0</td>\n",
              "    </tr>\n",
              "    <tr>\n",
              "      <th>2017-12-29</th>\n",
              "      <td>40.831625</td>\n",
              "      <td>40.848385</td>\n",
              "      <td>40.520335</td>\n",
              "      <td>40.522728</td>\n",
              "      <td>103999600</td>\n",
              "      <td>0.0</td>\n",
              "      <td>0</td>\n",
              "    </tr>\n",
              "  </tbody>\n",
              "</table>\n",
              "<p>503 rows × 7 columns</p>\n",
              "</div>"
            ],
            "text/plain": [
              "                 Open       High        Low  ...     Volume  Dividends  Stock Splits\n",
              "Date                                         ...                                    \n",
              "2016-01-04  23.655164  24.291441  23.514538  ...  270597600        0.0             0\n",
              "2016-01-05  24.379048  24.402102  23.609063  ...  223164000        0.0             0\n",
              "2016-01-06  23.182563  23.599832  23.023496  ...  273829600        0.0             0\n",
              "2016-01-07  22.749162  23.083437  22.230459  ...  324377600        0.0             0\n",
              "2016-01-08  22.719197  22.848296  22.306540  ...  283192000        0.0             0\n",
              "...               ...        ...        ...  ...        ...        ...           ...\n",
              "2017-12-22  41.827752  42.004949  41.784653  ...   65397600        0.0             0\n",
              "2017-12-26  40.898678  41.059112  40.630488  ...  132742000        0.0             0\n",
              "2017-12-27  40.731061  40.893888  40.637675  ...   85992800        0.0             0\n",
              "2017-12-28  40.946564  41.150101  40.822048  ...   65920800        0.0             0\n",
              "2017-12-29  40.831625  40.848385  40.520335  ...  103999600        0.0             0\n",
              "\n",
              "[503 rows x 7 columns]"
            ]
          },
          "metadata": {},
          "execution_count": 82
        }
      ]
    },
    {
      "cell_type": "markdown",
      "metadata": {
        "id": "Wpw6FwzGTP2x"
      },
      "source": [
        "We will create a Series named \"aapl\" whose values are Apple's daily closing prices, which are of course indexed by dates:"
      ]
    },
    {
      "cell_type": "code",
      "metadata": {
        "colab": {
          "base_uri": "https://localhost:8080/"
        },
        "id": "9QSj-DHhTqtk",
        "outputId": "d091fa3b-2bc8-4127-f389-7214312910a7"
      },
      "source": [
        "aapl = aapl_table['Close']['2017']\n",
        "print(aapl)"
      ],
      "execution_count": 83,
      "outputs": [
        {
          "output_type": "stream",
          "name": "stdout",
          "text": [
            "Date\n",
            "2017-01-03    27.372360\n",
            "2017-01-04    27.341724\n",
            "2017-01-05    27.480770\n",
            "2017-01-06    27.787130\n",
            "2017-01-09    28.041645\n",
            "                ...    \n",
            "2017-12-22    41.906773\n",
            "2017-12-26    40.843605\n",
            "2017-12-27    40.850788\n",
            "2017-12-28    40.965721\n",
            "2017-12-29    40.522728\n",
            "Name: Close, Length: 251, dtype: float64\n"
          ]
        }
      ]
    },
    {
      "cell_type": "markdown",
      "metadata": {
        "id": "jlwrpbxSVlVd"
      },
      "source": [
        "\n",
        "Recall that we can fetch a specific data point using series['yyyy-mm-dd']. We can also fetch the data in a specific month using series['yyyy-mm']."
      ]
    },
    {
      "cell_type": "code",
      "metadata": {
        "colab": {
          "base_uri": "https://localhost:8080/"
        },
        "id": "PFJ4IotvVmO-",
        "outputId": "9c739405-d8d9-4069-8255-64041d2b67a9"
      },
      "source": [
        "print(aapl['2017-3'])"
      ],
      "execution_count": 84,
      "outputs": [
        {
          "output_type": "stream",
          "name": "stdout",
          "text": [
            "Date\n",
            "2017-03-01    33.086285\n",
            "2017-03-02    32.889832\n",
            "2017-03-03    33.083931\n",
            "2017-03-06    32.979786\n",
            "2017-03-07    33.022381\n",
            "2017-03-08    32.899303\n",
            "2017-03-09    32.823563\n",
            "2017-03-10    32.932442\n",
            "2017-03-13    32.946632\n",
            "2017-03-14    32.896942\n",
            "2017-03-15    33.244865\n",
            "2017-03-16    33.299305\n",
            "2017-03-17    33.133617\n",
            "2017-03-20    33.481552\n",
            "2017-03-21    33.098106\n",
            "2017-03-22    33.472080\n",
            "2017-03-23    33.353752\n",
            "2017-03-24    33.287468\n",
            "2017-03-27    33.344269\n",
            "2017-03-28    34.035385\n",
            "2017-03-29    34.111126\n",
            "2017-03-30    34.066162\n",
            "2017-03-31    34.002262\n",
            "Name: Close, dtype: float64\n"
          ]
        }
      ]
    },
    {
      "cell_type": "markdown",
      "metadata": {
        "id": "pnEEcE9rWDko"
      },
      "source": [
        "Or in several consecutive months:"
      ]
    },
    {
      "cell_type": "code",
      "metadata": {
        "colab": {
          "base_uri": "https://localhost:8080/"
        },
        "id": "pUI0Xu33WEF0",
        "outputId": "378e8569-7ba9-4745-b5f3-ed5c199e33fd"
      },
      "source": [
        "aapl['2017-2':'2017-4']"
      ],
      "execution_count": 85,
      "outputs": [
        {
          "output_type": "execute_result",
          "data": {
            "text/plain": [
              "Date\n",
              "2017-02-01    30.341724\n",
              "2017-02-02    30.289886\n",
              "2017-02-03    30.419498\n",
              "2017-02-06    30.704645\n",
              "2017-02-07    30.996872\n",
              "                ...    \n",
              "2017-04-24    33.997524\n",
              "2017-04-25    34.208172\n",
              "2017-04-26    34.006985\n",
              "2017-04-27    34.033024\n",
              "2017-04-28    33.999893\n",
              "Name: Close, Length: 61, dtype: float64"
            ]
          },
          "metadata": {},
          "execution_count": 85
        }
      ]
    },
    {
      "cell_type": "markdown",
      "metadata": {
        "id": "FkGk7EeDWPaj"
      },
      "source": [
        "\n",
        ".head(N) and .tail(N) are methods for quickly accessing the first or last N elements."
      ]
    },
    {
      "cell_type": "code",
      "metadata": {
        "colab": {
          "base_uri": "https://localhost:8080/"
        },
        "id": "GK155Rw-Wy8c",
        "outputId": "24681de2-ce68-41ec-c813-adc7375a378f"
      },
      "source": [
        "print(aapl.head(5))\n",
        "print(aapl.tail(10))"
      ],
      "execution_count": 86,
      "outputs": [
        {
          "output_type": "stream",
          "name": "stdout",
          "text": [
            "Date\n",
            "2017-01-03    27.372360\n",
            "2017-01-04    27.341724\n",
            "2017-01-05    27.480770\n",
            "2017-01-06    27.787130\n",
            "2017-01-09    28.041645\n",
            "Name: Close, dtype: float64\n",
            "Date\n",
            "2017-12-15    41.657738\n",
            "2017-12-18    42.244404\n",
            "2017-12-19    41.794231\n",
            "2017-12-20    41.748741\n",
            "2017-12-21    41.906773\n",
            "2017-12-22    41.906773\n",
            "2017-12-26    40.843605\n",
            "2017-12-27    40.850788\n",
            "2017-12-28    40.965721\n",
            "2017-12-29    40.522728\n",
            "Name: Close, dtype: float64\n"
          ]
        }
      ]
    },
    {
      "cell_type": "markdown",
      "metadata": {
        "id": "jUB6j1SNXEVP"
      },
      "source": [
        "\n",
        "**Resampling**\n",
        "\n",
        "**series.resample(freq)** is a class called \"DatetimeIndexResampler\" which groups data in a Series object into regular time intervals. The argument \"freq\" determines the length of each interval.\n",
        "\n",
        "**series.resample.mean()** is a complete statement that groups data into intervals, and then compute the mean of each interval. For example, if we want to aggregate the daily data into monthly data by mean:"
      ]
    },
    {
      "cell_type": "code",
      "metadata": {
        "colab": {
          "base_uri": "https://localhost:8080/"
        },
        "id": "YaQ8cHJTXtnI",
        "outputId": "453c7fa4-9687-4518-c876-95ae55df4a51"
      },
      "source": [
        "by_month = aapl.resample('M').mean()\n",
        "print(by_month)"
      ],
      "execution_count": 87,
      "outputs": [
        {
          "output_type": "stream",
          "name": "stdout",
          "text": [
            "Date\n",
            "2017-01-31    28.178332\n",
            "2017-02-28    31.606276\n",
            "2017-03-31    33.282219\n",
            "2017-04-30    33.819262\n",
            "2017-05-31    36.125684\n",
            "2017-06-30    35.133984\n",
            "2017-07-31    35.245241\n",
            "2017-08-31    37.897230\n",
            "2017-09-30    37.604737\n",
            "2017-10-31    37.654549\n",
            "2017-11-30    41.233916\n",
            "2017-12-31    41.160038\n",
            "Freq: M, Name: Close, dtype: float64\n"
          ]
        }
      ]
    },
    {
      "cell_type": "markdown",
      "metadata": {
        "id": "YbWDhITlX8mF"
      },
      "source": [
        "\n",
        "We can also aggregate the data by week:"
      ]
    },
    {
      "cell_type": "code",
      "metadata": {
        "colab": {
          "base_uri": "https://localhost:8080/"
        },
        "id": "2SXUjQSKX-fp",
        "outputId": "2049ad00-33bb-4a02-88d6-4b38b5c5589b"
      },
      "source": [
        "by_week = aapl.resample('W').mean()\n",
        "print(by_week.head())"
      ],
      "execution_count": 88,
      "outputs": [
        {
          "output_type": "stream",
          "name": "stdout",
          "text": [
            "Date\n",
            "2017-01-08    27.495496\n",
            "2017-01-15    28.097734\n",
            "2017-01-22    28.266119\n",
            "2017-01-29    28.553981\n",
            "2017-02-05    29.662545\n",
            "Freq: W-SUN, Name: Close, dtype: float64\n"
          ]
        }
      ]
    },
    {
      "cell_type": "markdown",
      "metadata": {
        "id": "8K6cEyo-YeZh"
      },
      "source": [
        "\n",
        "We can also aggregate the data by month with max:"
      ]
    },
    {
      "cell_type": "code",
      "metadata": {
        "colab": {
          "base_uri": "https://localhost:8080/"
        },
        "id": "5fjUYaNqYgHg",
        "outputId": "a0a73399-1cb7-4829-ae6b-0f245481ce46"
      },
      "source": [
        "aapl.resample('M').max()"
      ],
      "execution_count": 89,
      "outputs": [
        {
          "output_type": "execute_result",
          "data": {
            "text/plain": [
              "Date\n",
              "2017-01-31    28.739212\n",
              "2017-02-28    32.451973\n",
              "2017-03-31    34.111126\n",
              "2017-04-30    34.264984\n",
              "2017-05-31    37.099133\n",
              "2017-06-30    36.944653\n",
              "2017-07-31    36.471703\n",
              "2017-08-31    39.129723\n",
              "2017-09-30    39.141655\n",
              "2017-10-31    40.332256\n",
              "2017-11-30    42.050140\n",
              "2017-12-31    42.244404\n",
              "Freq: M, Name: Close, dtype: float64"
            ]
          },
          "metadata": {},
          "execution_count": 89
        }
      ]
    },
    {
      "cell_type": "markdown",
      "metadata": {
        "id": "OekIiNDpeNuJ"
      },
      "source": [
        "We can choose almost any frequency by using the format 'nf', where 'n' is an integer and 'f' is M for month, W for week and D for day."
      ]
    },
    {
      "cell_type": "code",
      "metadata": {
        "colab": {
          "base_uri": "https://localhost:8080/"
        },
        "id": "fBougzKveP8k",
        "outputId": "45620926-0d12-4d06-8a22-6164f0f565bc"
      },
      "source": [
        "\n",
        "three_day = aapl.resample('3D').mean()\n",
        "two_week = aapl.resample('2W').mean()\n",
        "two_month = aapl.resample('2M').mean()\n",
        "one_day = aapl.resample('1D').mean()\n",
        "\n",
        "print(three_day)\n",
        "print(two_week)\n",
        "print(two_month )\n",
        "print(one_day)"
      ],
      "execution_count": 90,
      "outputs": [
        {
          "output_type": "stream",
          "name": "stdout",
          "text": [
            "Date\n",
            "2017-01-03    27.398285\n",
            "2017-01-06    27.787130\n",
            "2017-01-09    28.110774\n",
            "2017-01-12    28.078174\n",
            "2017-01-15    28.279671\n",
            "                ...    \n",
            "2017-12-17    42.019318\n",
            "2017-12-20    41.854095\n",
            "2017-12-23          NaN\n",
            "2017-12-26    40.886705\n",
            "2017-12-29    40.522728\n",
            "Freq: 3D, Name: Close, Length: 121, dtype: float64\n",
            "Date\n",
            "2017-01-08    27.495496\n",
            "2017-01-22    28.172571\n",
            "2017-02-05    29.108263\n",
            "2017-02-19    31.516815\n",
            "2017-03-05    32.595558\n",
            "2017-03-19    33.017884\n",
            "2017-04-02    33.625216\n",
            "2017-04-16    33.849728\n",
            "2017-04-30    33.791843\n",
            "2017-05-14    35.697633\n",
            "2017-05-28    36.496178\n",
            "2017-06-11    36.515005\n",
            "2017-06-25    34.529046\n",
            "2017-07-09    34.265137\n",
            "2017-07-23    35.278870\n",
            "2017-08-06    36.272775\n",
            "2017-08-20    37.904121\n",
            "2017-09-03    38.458794\n",
            "2017-09-17    38.282708\n",
            "2017-10-01    36.840872\n",
            "2017-10-15    37.071592\n",
            "2017-10-29    37.757320\n",
            "2017-11-12    41.032242\n",
            "2017-11-26    41.204375\n",
            "2017-12-10    40.867066\n",
            "2017-12-24    41.620866\n",
            "2018-01-07    40.795711\n",
            "Freq: 2W-SUN, Name: Close, dtype: float64\n",
            "Date\n",
            "2017-01-31    28.178332\n",
            "2017-03-31    32.524054\n",
            "2017-05-31    35.056855\n",
            "2017-07-31    35.186963\n",
            "2017-09-30    37.761187\n",
            "2017-11-30    39.402612\n",
            "2018-01-31    41.160038\n",
            "Freq: 2M, Name: Close, dtype: float64\n",
            "Date\n",
            "2017-01-03    27.372360\n",
            "2017-01-04    27.341724\n",
            "2017-01-05    27.480770\n",
            "2017-01-06    27.787130\n",
            "2017-01-07          NaN\n",
            "                ...    \n",
            "2017-12-25          NaN\n",
            "2017-12-26    40.843605\n",
            "2017-12-27    40.850788\n",
            "2017-12-28    40.965721\n",
            "2017-12-29    40.522728\n",
            "Freq: D, Name: Close, Length: 361, dtype: float64\n"
          ]
        }
      ]
    },
    {
      "cell_type": "markdown",
      "metadata": {
        "id": "sFI6dyZbew8L"
      },
      "source": [
        "\n",
        "Besides the mean() method, other methods can also be used with the resampler:"
      ]
    },
    {
      "cell_type": "code",
      "metadata": {
        "colab": {
          "base_uri": "https://localhost:8080/"
        },
        "id": "2GFEIu7Lezw5",
        "outputId": "a8ac3ebf-69ea-4a93-dbe2-c33adf496295"
      },
      "source": [
        "std = aapl.resample('W').std()\n",
        "max = aapl.resample('W').max()\n",
        "min = aapl.resample('W').min()\n",
        "\n",
        "print(std)\n",
        "print(max)\n",
        "print(min)"
      ],
      "execution_count": 91,
      "outputs": [
        {
          "output_type": "stream",
          "name": "stdout",
          "text": [
            "Date\n",
            "2017-01-08    0.203368\n",
            "2017-01-15    0.072531\n",
            "2017-01-22    0.025556\n",
            "2017-01-29    0.245284\n",
            "2017-02-05    0.943261\n",
            "2017-02-12    0.252002\n",
            "2017-02-19    0.231396\n",
            "2017-02-26    0.059348\n",
            "2017-03-05    0.340093\n",
            "2017-03-12    0.076287\n",
            "2017-03-19    0.177835\n",
            "2017-03-26    0.157269\n",
            "2017-04-02    0.319807\n",
            "2017-04-09    0.128689\n",
            "2017-04-16    0.212479\n",
            "2017-04-23    0.174676\n",
            "2017-04-30    0.090024\n",
            "2017-05-07    0.235635\n",
            "2017-05-14    0.352979\n",
            "2017-05-21    0.536094\n",
            "2017-05-28    0.060392\n",
            "2017-06-04    0.281226\n",
            "2017-06-11    0.620035\n",
            "2017-06-18    0.382566\n",
            "2017-06-25    0.128895\n",
            "2017-07-02    0.264109\n",
            "2017-07-09    0.158886\n",
            "2017-07-16    0.404283\n",
            "2017-07-23    0.124992\n",
            "2017-07-30    0.384439\n",
            "2017-08-06    0.924393\n",
            "2017-08-13    0.467467\n",
            "2017-08-20    0.435254\n",
            "2017-08-27    0.275765\n",
            "2017-09-03    0.251725\n",
            "2017-09-10    0.381642\n",
            "2017-09-17    0.294141\n",
            "2017-09-24    0.735190\n",
            "2017-10-01    0.354846\n",
            "2017-10-08    0.204854\n",
            "2017-10-15    0.118726\n",
            "2017-10-22    0.516995\n",
            "2017-10-29    0.680453\n",
            "2017-11-05    0.560684\n",
            "2017-11-12    0.190972\n",
            "2017-11-19    0.436194\n",
            "2017-11-26    0.563041\n",
            "2017-12-03    0.427444\n",
            "2017-12-10    0.073129\n",
            "2017-12-17    0.205264\n",
            "2017-12-24    0.194123\n",
            "2017-12-31    0.190395\n",
            "Freq: W-SUN, Name: Close, dtype: float64\n",
            "Date\n",
            "2017-01-08    27.787130\n",
            "2017-01-15    28.220753\n",
            "2017-01-22    28.279671\n",
            "2017-01-29    28.739212\n",
            "2017-02-05    30.419498\n",
            "2017-02-12    31.341913\n",
            "2017-02-19    32.122971\n",
            "2017-02-26    32.451973\n",
            "2017-03-05    33.086285\n",
            "2017-03-12    33.022381\n",
            "2017-03-19    33.299305\n",
            "2017-03-26    33.481552\n",
            "2017-04-02    34.111126\n",
            "2017-04-09    34.264984\n",
            "2017-04-16    33.886284\n",
            "2017-04-23    33.713505\n",
            "2017-04-30    34.208172\n",
            "2017-05-07    35.256687\n",
            "2017-05-14    37.099133\n",
            "2017-05-21    37.004059\n",
            "2017-05-28    36.597660\n",
            "2017-06-04    36.944653\n",
            "2017-06-11    36.925636\n",
            "2017-06-18    34.838955\n",
            "2017-06-25    34.779545\n",
            "2017-07-02    34.658337\n",
            "2017-07-09    34.266190\n",
            "2017-07-16    35.421230\n",
            "2017-07-23    35.891804\n",
            "2017-07-30    36.471703\n",
            "2017-08-06    37.346291\n",
            "2017-08-13    38.277931\n",
            "2017-08-20    38.557102\n",
            "2017-08-27    38.170578\n",
            "2017-09-03    39.141655\n",
            "2017-09-10    38.671619\n",
            "2017-09-17    38.533234\n",
            "2017-09-24    37.872318\n",
            "2017-10-01    36.798637\n",
            "2017-10-08    37.075401\n",
            "2017-10-15    37.457157\n",
            "2017-10-22    38.287479\n",
            "2017-10-29    38.903053\n",
            "2017-11-05    41.157795\n",
            "2017-11-12    42.050140\n",
            "2017-11-19    41.657738\n",
            "2017-11-26    41.897182\n",
            "2017-12-03    41.686474\n",
            "2017-12-10    40.659225\n",
            "2017-12-17    41.657738\n",
            "2017-12-24    42.244404\n",
            "2017-12-31    40.965721\n",
            "Freq: W-SUN, Name: Close, dtype: float64\n",
            "Date\n",
            "2017-01-08    27.341724\n",
            "2017-01-15    28.041645\n",
            "2017-01-22    28.227821\n",
            "2017-01-29    28.272600\n",
            "2017-02-05    28.597813\n",
            "2017-02-12    30.704645\n",
            "2017-02-19    31.547819\n",
            "2017-02-26    32.314690\n",
            "2017-03-05    32.409363\n",
            "2017-03-12    32.823563\n",
            "2017-03-19    32.896942\n",
            "2017-03-26    33.098106\n",
            "2017-04-02    33.344269\n",
            "2017-04-09    33.926521\n",
            "2017-04-16    33.384506\n",
            "2017-04-23    33.296928\n",
            "2017-04-30    33.997524\n",
            "2017-05-07    34.681545\n",
            "2017-05-14    36.215271\n",
            "2017-05-21    35.708801\n",
            "2017-05-28    36.443180\n",
            "2017-06-04    36.305332\n",
            "2017-06-11    35.406967\n",
            "2017-06-18    33.812252\n",
            "2017-06-25    34.463448\n",
            "2017-07-02    34.147366\n",
            "2017-07-09    33.921589\n",
            "2017-07-16    34.475334\n",
            "2017-07-23    35.544807\n",
            "2017-07-30    35.530560\n",
            "2017-08-06    35.347553\n",
            "2017-08-13    37.058716\n",
            "2017-08-20    37.578850\n",
            "2017-08-27    37.509663\n",
            "2017-09-03    38.526077\n",
            "2017-09-10    37.848461\n",
            "2017-09-17    37.764950\n",
            "2017-09-24    36.240330\n",
            "2017-10-01    35.920605\n",
            "2017-10-08    36.619690\n",
            "2017-10-15    37.182785\n",
            "2017-10-22    37.216183\n",
            "2017-10-29    37.261520\n",
            "2017-11-05    39.778709\n",
            "2017-11-12    41.575329\n",
            "2017-11-19    40.486820\n",
            "2017-11-26    40.702324\n",
            "2017-12-03    40.582596\n",
            "2017-12-10    40.470055\n",
            "2017-12-17    41.114178\n",
            "2017-12-24    41.748741\n",
            "2017-12-31    40.522728\n",
            "Freq: W-SUN, Name: Close, dtype: float64\n"
          ]
        }
      ]
    },
    {
      "cell_type": "markdown",
      "metadata": {
        "id": "CVCKNpQje6oh"
      },
      "source": [
        "Often we want to calculate monthly returns of a stock, based on prices on the last day of each month. To fetch those prices, we use the series.resample.agg() method:"
      ]
    },
    {
      "cell_type": "code",
      "metadata": {
        "colab": {
          "base_uri": "https://localhost:8080/"
        },
        "id": "unUro_rIfDz5",
        "outputId": "18b5604b-8568-4bf5-db05-7515ec74a7af"
      },
      "source": [
        "last_day = aapl.resample('M').agg(lambda x: x[-1])\n",
        "print(last_day)"
      ],
      "execution_count": 92,
      "outputs": [
        {
          "output_type": "stream",
          "name": "stdout",
          "text": [
            "Date\n",
            "2017-01-31    28.597813\n",
            "2017-02-28    32.423569\n",
            "2017-03-31    34.002262\n",
            "2017-04-30    33.999893\n",
            "2017-05-31    36.305332\n",
            "2017-06-30    34.228172\n",
            "2017-07-31    35.347553\n",
            "2017-08-31    39.129723\n",
            "2017-09-30    36.772396\n",
            "2017-10-31    40.332256\n",
            "2017-11-30    41.150097\n",
            "2017-12-31    40.522728\n",
            "Freq: M, Name: Close, dtype: float64\n"
          ]
        }
      ]
    },
    {
      "cell_type": "markdown",
      "metadata": {
        "id": "jO9F_nn-fNPJ"
      },
      "source": [
        "Or directly calculate the monthly rates of return using the data for the first day and the last day:"
      ]
    },
    {
      "cell_type": "code",
      "metadata": {
        "colab": {
          "base_uri": "https://localhost:8080/"
        },
        "id": "AccGaOeEfO4w",
        "outputId": "84b6c665-7754-471e-f0ea-bca464877667"
      },
      "source": [
        "monthly_return = aapl.resample('M').agg(lambda x: x[-1]/x[0] - 1)\n",
        "print(monthly_return)"
      ],
      "execution_count": 93,
      "outputs": [
        {
          "output_type": "stream",
          "name": "stdout",
          "text": [
            "Date\n",
            "2017-01-31    0.044770\n",
            "2017-02-28    0.068613\n",
            "2017-03-31    0.027685\n",
            "2017-04-30   -0.000348\n",
            "2017-05-31    0.046463\n",
            "2017-06-30   -0.059799\n",
            "2017-07-31    0.036446\n",
            "2017-08-31    0.097261\n",
            "2017-09-30   -0.060530\n",
            "2017-10-31    0.099018\n",
            "2017-11-30    0.033422\n",
            "2017-12-31   -0.010640\n",
            "Freq: M, Name: Close, dtype: float64\n"
          ]
        }
      ]
    },
    {
      "cell_type": "markdown",
      "metadata": {
        "id": "3siin9dtfbok"
      },
      "source": [
        "Series object also provides us some convenient methods to do some quick calculation."
      ]
    },
    {
      "cell_type": "code",
      "metadata": {
        "colab": {
          "base_uri": "https://localhost:8080/"
        },
        "id": "EYUwyOo7fdnZ",
        "outputId": "a18e0b3f-41b2-40bb-b198-528049e7b6a4"
      },
      "source": [
        "print(monthly_return.mean())\n",
        "print(monthly_return.std())\n",
        "print(monthly_return.max())"
      ],
      "execution_count": 94,
      "outputs": [
        {
          "output_type": "stream",
          "name": "stdout",
          "text": [
            "0.026863335160140594\n",
            "0.05225852528008448\n",
            "0.09901848949416614\n"
          ]
        }
      ]
    },
    {
      "cell_type": "markdown",
      "metadata": {
        "id": "ToR28v_8ffPX"
      },
      "source": [
        "Another two methods frequently used on Series are .diff() and .pct_change(). The former calculates the difference between consecutive elements, and the latter calculates the percentage change."
      ]
    },
    {
      "cell_type": "code",
      "metadata": {
        "colab": {
          "base_uri": "https://localhost:8080/"
        },
        "id": "zNVtrHi5fp7y",
        "outputId": "435ec9d0-1264-4269-a4b9-f606be121d86"
      },
      "source": [
        "print(last_day.diff())\n",
        "print(last_day.pct_change())"
      ],
      "execution_count": 95,
      "outputs": [
        {
          "output_type": "stream",
          "name": "stdout",
          "text": [
            "Date\n",
            "2017-01-31         NaN\n",
            "2017-02-28    3.825756\n",
            "2017-03-31    1.578693\n",
            "2017-04-30   -0.002369\n",
            "2017-05-31    2.305439\n",
            "2017-06-30   -2.077160\n",
            "2017-07-31    1.119381\n",
            "2017-08-31    3.782169\n",
            "2017-09-30   -2.357327\n",
            "2017-10-31    3.559860\n",
            "2017-11-30    0.817841\n",
            "2017-12-31   -0.627369\n",
            "Freq: M, Name: Close, dtype: float64\n",
            "Date\n",
            "2017-01-31         NaN\n",
            "2017-02-28    0.133778\n",
            "2017-03-31    0.048690\n",
            "2017-04-30   -0.000070\n",
            "2017-05-31    0.067807\n",
            "2017-06-30   -0.057214\n",
            "2017-07-31    0.032703\n",
            "2017-08-31    0.106999\n",
            "2017-09-30   -0.060244\n",
            "2017-10-31    0.096808\n",
            "2017-11-30    0.020278\n",
            "2017-12-31   -0.015246\n",
            "Freq: M, Name: Close, dtype: float64\n"
          ]
        }
      ]
    },
    {
      "cell_type": "markdown",
      "metadata": {
        "id": "QOigT0UCfslh"
      },
      "source": [
        "Notice that we induced a NaN value while calculating percentage changes i.e. returns.\n",
        "\n",
        "When dealing with NaN values, we usually either removing the data point or fill it with a specific value. Here we fill it with 0:"
      ]
    },
    {
      "cell_type": "code",
      "metadata": {
        "colab": {
          "base_uri": "https://localhost:8080/"
        },
        "id": "VFKtDVl9fqBo",
        "outputId": "d4451fe3-687c-4068-835b-b080ae144f7b"
      },
      "source": [
        "daily_return = last_day.pct_change()\n",
        "print(daily_return.fillna(0))"
      ],
      "execution_count": 96,
      "outputs": [
        {
          "output_type": "stream",
          "name": "stdout",
          "text": [
            "Date\n",
            "2017-01-31    0.000000\n",
            "2017-02-28    0.133778\n",
            "2017-03-31    0.048690\n",
            "2017-04-30   -0.000070\n",
            "2017-05-31    0.067807\n",
            "2017-06-30   -0.057214\n",
            "2017-07-31    0.032703\n",
            "2017-08-31    0.106999\n",
            "2017-09-30   -0.060244\n",
            "2017-10-31    0.096808\n",
            "2017-11-30    0.020278\n",
            "2017-12-31   -0.015246\n",
            "Freq: M, Name: Close, dtype: float64\n"
          ]
        }
      ]
    },
    {
      "cell_type": "markdown",
      "metadata": {
        "id": "KScP87zpgVex"
      },
      "source": [
        "\n",
        "Alternatively, we can fill a NaN with the next fitted value. This is called 'backward fill', or 'bfill' in short:"
      ]
    },
    {
      "cell_type": "code",
      "metadata": {
        "colab": {
          "base_uri": "https://localhost:8080/"
        },
        "id": "cFtl3E9pgjWx",
        "outputId": "2a3ba775-9694-4552-f482-4d5b12a00b28"
      },
      "source": [
        "daily_return = last_day.pct_change()\n",
        "print(daily_return.fillna(method = 'bfill'))"
      ],
      "execution_count": 97,
      "outputs": [
        {
          "output_type": "stream",
          "name": "stdout",
          "text": [
            "Date\n",
            "2017-01-31    0.133778\n",
            "2017-02-28    0.133778\n",
            "2017-03-31    0.048690\n",
            "2017-04-30   -0.000070\n",
            "2017-05-31    0.067807\n",
            "2017-06-30   -0.057214\n",
            "2017-07-31    0.032703\n",
            "2017-08-31    0.106999\n",
            "2017-09-30   -0.060244\n",
            "2017-10-31    0.096808\n",
            "2017-11-30    0.020278\n",
            "2017-12-31   -0.015246\n",
            "Freq: M, Name: Close, dtype: float64\n"
          ]
        }
      ]
    },
    {
      "cell_type": "markdown",
      "metadata": {
        "id": "09bc1jCVgnEM"
      },
      "source": [
        "As expected, since there is a 'backward fill' method, there must be a 'forward fill' method, or 'ffill' in short. However we can't use it here because the NaN is the first value.\n",
        "\n",
        "We can also simply remove NaN values by .dropna()"
      ]
    },
    {
      "cell_type": "code",
      "metadata": {
        "colab": {
          "base_uri": "https://localhost:8080/"
        },
        "id": "PpTbpt1agnia",
        "outputId": "0fd18e07-dc0b-4e4c-a431-4b337fc24a2f"
      },
      "source": [
        "daily_return = last_day.pct_change()\n",
        "daily_return.dropna()"
      ],
      "execution_count": 98,
      "outputs": [
        {
          "output_type": "execute_result",
          "data": {
            "text/plain": [
              "Date\n",
              "2017-02-28    0.133778\n",
              "2017-03-31    0.048690\n",
              "2017-04-30   -0.000070\n",
              "2017-05-31    0.067807\n",
              "2017-06-30   -0.057214\n",
              "2017-07-31    0.032703\n",
              "2017-08-31    0.106999\n",
              "2017-09-30   -0.060244\n",
              "2017-10-31    0.096808\n",
              "2017-11-30    0.020278\n",
              "2017-12-31   -0.015246\n",
              "Freq: M, Name: Close, dtype: float64"
            ]
          },
          "metadata": {},
          "execution_count": 98
        }
      ]
    },
    {
      "cell_type": "markdown",
      "metadata": {
        "id": "udfQ_5Cjg4qs"
      },
      "source": [
        "**DataFrame**\n",
        "\n",
        "The DataFrame is the most commonly used data structure in Pandas. It is essentially a table, just like an Excel spreadsheet.\n",
        "\n",
        "More precisely, a DataFrame is a collection of Series objects, each of which may contain different data types. A DataFrame can be created from various data types: dictionary, 2-D numpy.ndarray, a Series or another DataFrame.\n",
        "\n"
      ]
    },
    {
      "cell_type": "markdown",
      "metadata": {
        "id": "ftIWE0qQhNxq"
      },
      "source": [
        "**Create DataFrames**\n",
        "\n",
        "The most common method of creating a DataFrame is passing a dictionary:"
      ]
    },
    {
      "cell_type": "code",
      "metadata": {
        "colab": {
          "base_uri": "https://localhost:8080/"
        },
        "id": "YZSxYKeXhQmo",
        "outputId": "fde08dd7-ba9d-456f-c28b-a2d7ae76bfae"
      },
      "source": [
        "import pandas as pd\n",
        "\n",
        "dict = {'AAPL': [143.5, 144.09, 142.73, 144.18, 143.77],'GOOG':[898.7, 911.71, 906.69, 918.59, 926.99],\n",
        "        'IBM':[155.58, 153.67, 152.36, 152.94, 153.49]}\n",
        "data_index = pd.date_range('2017-07-03',periods = 5, freq = 'D')\n",
        "df = pd.DataFrame(dict, index = data_index)\n",
        "print(df)"
      ],
      "execution_count": 99,
      "outputs": [
        {
          "output_type": "stream",
          "name": "stdout",
          "text": [
            "              AAPL    GOOG     IBM\n",
            "2017-07-03  143.50  898.70  155.58\n",
            "2017-07-04  144.09  911.71  153.67\n",
            "2017-07-05  142.73  906.69  152.36\n",
            "2017-07-06  144.18  918.59  152.94\n",
            "2017-07-07  143.77  926.99  153.49\n"
          ]
        }
      ]
    },
    {
      "cell_type": "markdown",
      "metadata": {
        "id": "FD5W74iThbhv"
      },
      "source": [
        "**Manipulating DataFrames**\n",
        "\n",
        "We can fetch values in a DataFrame by columns and index. Each column in a DataFrame is essentially a Pandas Series. We can fetch a column by square brackets: df['column_name']\n",
        "\n",
        "If a column name contains no spaces, then we can also use df.column_name to fetch a column:"
      ]
    },
    {
      "cell_type": "code",
      "metadata": {
        "colab": {
          "base_uri": "https://localhost:8080/"
        },
        "id": "EXM5t3-qhdDE",
        "outputId": "2f4f0ddf-022c-4e1e-c2c8-9a47297907f1"
      },
      "source": [
        "df = aapl_table\n",
        "print(df.Close.tail(5))\n",
        "print(df['Volume'].tail(5))"
      ],
      "execution_count": 100,
      "outputs": [
        {
          "output_type": "stream",
          "name": "stdout",
          "text": [
            "Date\n",
            "2017-12-22    41.906773\n",
            "2017-12-26    40.843605\n",
            "2017-12-27    40.850788\n",
            "2017-12-28    40.965721\n",
            "2017-12-29    40.522728\n",
            "Name: Close, dtype: float64\n",
            "Date\n",
            "2017-12-22     65397600\n",
            "2017-12-26    132742000\n",
            "2017-12-27     85992800\n",
            "2017-12-28     65920800\n",
            "2017-12-29    103999600\n",
            "Name: Volume, dtype: int64\n"
          ]
        }
      ]
    },
    {
      "cell_type": "markdown",
      "metadata": {
        "id": "IVGFIPx-iBRE"
      },
      "source": [
        "All the methods we applied to a Series index such as iloc[], loc[] and resampling methods, can also be applied to a DataFrame:"
      ]
    },
    {
      "cell_type": "code",
      "metadata": {
        "colab": {
          "base_uri": "https://localhost:8080/"
        },
        "id": "VxsXZmoliWij",
        "outputId": "ff9203ef-a3f2-40b7-ef9f-4b0cb351eb67"
      },
      "source": [
        "aapl_2016 = df['2016']\n",
        "aapl_month = aapl_2016.resample('M').agg(lambda x: x[-1])\n",
        "print(aapl_month)"
      ],
      "execution_count": 101,
      "outputs": [
        {
          "output_type": "stream",
          "name": "stdout",
          "text": [
            "                 Open       High        Low  ...     Volume  Dividends  Stock Splits\n",
            "Date                                         ...                                    \n",
            "2016-01-31  21.852386  22.440248  21.750950  ...  257666000        0.0             0\n",
            "2016-02-29  22.450759  22.768306  22.402084  ...  140865200        0.0             0\n",
            "2016-03-31  25.431522  25.473243  25.236821  ...  103553600        0.0             0\n",
            "2016-04-30  21.785531  21.954736  21.442489  ...  274126000        0.0             0\n",
            "2016-05-31  23.226407  23.412965  23.044514  ...  169228800        0.0             0\n",
            "2016-06-30  22.023110  22.333260  21.990462  ...  143345600        0.0             0\n",
            "2016-07-31  24.296782  24.380733  24.177851  ...  110934800        0.0             0\n",
            "2016-08-31  24.773058  24.986415  24.768367  ...  118649600        0.0             0\n",
            "2016-09-30  26.367392  26.580751  26.212649  ...  145516400        0.0             0\n",
            "2016-10-31  26.646394  26.782382  26.540886  ...  105677600        0.0             0\n",
            "2016-11-30  26.300084  26.441482  25.986651  ...  144649200        0.0             0\n",
            "2016-12-31  27.490195  27.619809  27.202685  ...  122345200        0.0             0\n",
            "\n",
            "[12 rows x 7 columns]\n"
          ]
        }
      ]
    },
    {
      "cell_type": "markdown",
      "metadata": {
        "id": "J0hYrkOGiZns"
      },
      "source": [
        "We may select certain columns of a DataFrame using their names:"
      ]
    },
    {
      "cell_type": "code",
      "metadata": {
        "colab": {
          "base_uri": "https://localhost:8080/"
        },
        "id": "7MB8KlpgibTP",
        "outputId": "72220a61-0c36-43da-a95d-1293a40abc4f"
      },
      "source": [
        "aapl_bar = aapl_month[['Open', 'High', 'Low', 'Close']]\n",
        "print(aapl_bar)"
      ],
      "execution_count": 102,
      "outputs": [
        {
          "output_type": "stream",
          "name": "stdout",
          "text": [
            "                 Open       High        Low      Close\n",
            "Date                                                  \n",
            "2016-01-31  21.852386  22.440248  21.750950  22.440248\n",
            "2016-02-29  22.450759  22.768306  22.402084  22.411356\n",
            "2016-03-31  25.431522  25.473243  25.236821  25.262318\n",
            "2016-04-30  21.785531  21.954736  21.442489  21.727585\n",
            "2016-05-31  23.226407  23.412965  23.044514  23.287039\n",
            "2016-06-30  22.023110  22.333260  21.990462  22.293617\n",
            "2016-07-31  24.296782  24.380733  24.177851  24.301445\n",
            "2016-08-31  24.773058  24.986415  24.768367  24.876219\n",
            "2016-09-30  26.367392  26.580751  26.212649  26.505724\n",
            "2016-10-31  26.646394  26.782382  26.540886  26.620604\n",
            "2016-11-30  26.300084  26.441482  25.986651  26.045567\n",
            "2016-12-31  27.490195  27.619809  27.202685  27.294594\n"
          ]
        }
      ]
    },
    {
      "cell_type": "markdown",
      "metadata": {
        "id": "HZe0peYQipGX"
      },
      "source": [
        "We can even specify both rows and columns using loc[]. The row indices and column names are separated by a comma:"
      ]
    },
    {
      "cell_type": "code",
      "metadata": {
        "colab": {
          "base_uri": "https://localhost:8080/"
        },
        "id": "O6DYRI8rirYW",
        "outputId": "24f373f5-c948-4877-a02a-a8a3ddf1df2f"
      },
      "source": [
        "print(aapl_month.loc['2016-03':'2016-06',['Open', 'High', 'Low', 'Close']])"
      ],
      "execution_count": 103,
      "outputs": [
        {
          "output_type": "stream",
          "name": "stdout",
          "text": [
            "                 Open       High        Low      Close\n",
            "Date                                                  \n",
            "2016-03-31  25.431522  25.473243  25.236821  25.262318\n",
            "2016-04-30  21.785531  21.954736  21.442489  21.727585\n",
            "2016-05-31  23.226407  23.412965  23.044514  23.287039\n",
            "2016-06-30  22.023110  22.333260  21.990462  22.293617\n"
          ]
        }
      ]
    },
    {
      "cell_type": "markdown",
      "metadata": {
        "id": "pi5pLs9Jiqpl"
      },
      "source": [
        "The subset methods in DataFrame is quite useful. By writing logical statements in square brackets, we can make customized subsets:"
      ]
    },
    {
      "cell_type": "code",
      "metadata": {
        "colab": {
          "base_uri": "https://localhost:8080/"
        },
        "id": "lbBGeaQ2i--9",
        "outputId": "29416680-b1e1-4994-e9be-af9f8b0378b9"
      },
      "source": [
        "import numpy as np\n",
        "\n",
        "above = aapl_bar[aapl_bar.Close > np.mean(aapl_bar.Close)]\n",
        "print(above)"
      ],
      "execution_count": 104,
      "outputs": [
        {
          "output_type": "stream",
          "name": "stdout",
          "text": [
            "                 Open       High        Low      Close\n",
            "Date                                                  \n",
            "2016-03-31  25.431522  25.473243  25.236821  25.262318\n",
            "2016-08-31  24.773058  24.986415  24.768367  24.876219\n",
            "2016-09-30  26.367392  26.580751  26.212649  26.505724\n",
            "2016-10-31  26.646394  26.782382  26.540886  26.620604\n",
            "2016-11-30  26.300084  26.441482  25.986651  26.045567\n",
            "2016-12-31  27.490195  27.619809  27.202685  27.294594\n"
          ]
        }
      ]
    },
    {
      "cell_type": "markdown",
      "metadata": {
        "id": "5Y6yBm0RjI9Q"
      },
      "source": [
        "**Data Validation**\n",
        "\n",
        "As mentioned, all methods that apply to a Series can also be applied to a DataFrame. Here we add a new column to an existing DataFrame:"
      ]
    },
    {
      "cell_type": "code",
      "metadata": {
        "colab": {
          "base_uri": "https://localhost:8080/"
        },
        "id": "uL33Z--2jadl",
        "outputId": "9ab23dc5-f0f1-45d6-f41b-1fe131408a6e"
      },
      "source": [
        "aapl_bar['rate_return'] = aapl_bar.Close.pct_change()\n",
        "print(aapl_bar)"
      ],
      "execution_count": 105,
      "outputs": [
        {
          "output_type": "stream",
          "name": "stdout",
          "text": [
            "                 Open       High        Low      Close  rate_return\n",
            "Date                                                               \n",
            "2016-01-31  21.852386  22.440248  21.750950  22.440248          NaN\n",
            "2016-02-29  22.450759  22.768306  22.402084  22.411356    -0.001288\n",
            "2016-03-31  25.431522  25.473243  25.236821  25.262318     0.127211\n",
            "2016-04-30  21.785531  21.954736  21.442489  21.727585    -0.139921\n",
            "2016-05-31  23.226407  23.412965  23.044514  23.287039     0.071773\n",
            "2016-06-30  22.023110  22.333260  21.990462  22.293617    -0.042660\n",
            "2016-07-31  24.296782  24.380733  24.177851  24.301445     0.090063\n",
            "2016-08-31  24.773058  24.986415  24.768367  24.876219     0.023652\n",
            "2016-09-30  26.367392  26.580751  26.212649  26.505724     0.065505\n",
            "2016-10-31  26.646394  26.782382  26.540886  26.620604     0.004334\n",
            "2016-11-30  26.300084  26.441482  25.986651  26.045567    -0.021601\n",
            "2016-12-31  27.490195  27.619809  27.202685  27.294594     0.047955\n"
          ]
        },
        {
          "output_type": "stream",
          "name": "stderr",
          "text": [
            "/usr/local/lib/python3.7/dist-packages/ipykernel_launcher.py:1: SettingWithCopyWarning: \n",
            "A value is trying to be set on a copy of a slice from a DataFrame.\n",
            "Try using .loc[row_indexer,col_indexer] = value instead\n",
            "\n",
            "See the caveats in the documentation: https://pandas.pydata.org/pandas-docs/stable/user_guide/indexing.html#returning-a-view-versus-a-copy\n",
            "  \"\"\"Entry point for launching an IPython kernel.\n"
          ]
        }
      ]
    },
    {
      "cell_type": "markdown",
      "metadata": {
        "id": "_AbP3KVvjoJd"
      },
      "source": [
        "Here the calculation introduced a NaN value. If the DataFrame is large, we would not be able to observe it. isnull() provides a convenient way to check abnormal values."
      ]
    },
    {
      "cell_type": "code",
      "metadata": {
        "colab": {
          "base_uri": "https://localhost:8080/"
        },
        "id": "AAnke2ZTjrm5",
        "outputId": "07711762-9cf5-46fe-e88d-127d9167135d"
      },
      "source": [
        "missing = aapl_bar.isnull()\n",
        "print(missing)\n",
        "print('---------------------------------------------')\n",
        "print(missing.describe())"
      ],
      "execution_count": 106,
      "outputs": [
        {
          "output_type": "stream",
          "name": "stdout",
          "text": [
            "             Open   High    Low  Close  rate_return\n",
            "Date                                               \n",
            "2016-01-31  False  False  False  False         True\n",
            "2016-02-29  False  False  False  False        False\n",
            "2016-03-31  False  False  False  False        False\n",
            "2016-04-30  False  False  False  False        False\n",
            "2016-05-31  False  False  False  False        False\n",
            "2016-06-30  False  False  False  False        False\n",
            "2016-07-31  False  False  False  False        False\n",
            "2016-08-31  False  False  False  False        False\n",
            "2016-09-30  False  False  False  False        False\n",
            "2016-10-31  False  False  False  False        False\n",
            "2016-11-30  False  False  False  False        False\n",
            "2016-12-31  False  False  False  False        False\n",
            "---------------------------------------------\n",
            "         Open   High    Low  Close rate_return\n",
            "count      12     12     12     12          12\n",
            "unique      1      1      1      1           2\n",
            "top     False  False  False  False       False\n",
            "freq       12     12     12     12          11\n"
          ]
        }
      ]
    },
    {
      "cell_type": "markdown",
      "metadata": {
        "id": "scbwwdYqjyYZ"
      },
      "source": [
        "The row labelled \"unique\" indicates the number of unique values in each column. Since the \"rate_return\" column has 2 unique values, it has at least one missing value.\n",
        "\n",
        "We can deduce the number of missing values by comparing \"count\" with \"freq\". There are 12 counts and 11 False values, so there is one True value which corresponds to the missing value.\n",
        "\n",
        "We can also find the rows with missing values easily:"
      ]
    },
    {
      "cell_type": "code",
      "metadata": {
        "colab": {
          "base_uri": "https://localhost:8080/"
        },
        "id": "rxfG_51-jz5w",
        "outputId": "26d2e889-5407-436c-ef2e-bd7ed755dd52"
      },
      "source": [
        "print(missing[missing.rate_return == True])"
      ],
      "execution_count": 107,
      "outputs": [
        {
          "output_type": "stream",
          "name": "stdout",
          "text": [
            "             Open   High    Low  Close  rate_return\n",
            "Date                                               \n",
            "2016-01-31  False  False  False  False         True\n"
          ]
        }
      ]
    },
    {
      "cell_type": "markdown",
      "metadata": {
        "id": "K328__ESj1uY"
      },
      "source": [
        "Usually when dealing with missing data, we either delete the whole row or fill it with some value. As we introduced in the Series chapter, the same method dropna() and fillna() can be applied to a DataFrame."
      ]
    },
    {
      "cell_type": "code",
      "metadata": {
        "colab": {
          "base_uri": "https://localhost:8080/"
        },
        "id": "0wlCzSKOj5--",
        "outputId": "6ecbfb1a-95de-4172-fd0c-0bdbdde1396f"
      },
      "source": [
        "drop = aapl_bar.dropna()\n",
        "print(drop)\n",
        "print('\\n--------------------------------------------------\\n')\n",
        "fill = aapl_bar.fillna(0)\n",
        "print(fill)"
      ],
      "execution_count": 108,
      "outputs": [
        {
          "output_type": "stream",
          "name": "stdout",
          "text": [
            "                 Open       High        Low      Close  rate_return\n",
            "Date                                                               \n",
            "2016-02-29  22.450759  22.768306  22.402084  22.411356    -0.001288\n",
            "2016-03-31  25.431522  25.473243  25.236821  25.262318     0.127211\n",
            "2016-04-30  21.785531  21.954736  21.442489  21.727585    -0.139921\n",
            "2016-05-31  23.226407  23.412965  23.044514  23.287039     0.071773\n",
            "2016-06-30  22.023110  22.333260  21.990462  22.293617    -0.042660\n",
            "2016-07-31  24.296782  24.380733  24.177851  24.301445     0.090063\n",
            "2016-08-31  24.773058  24.986415  24.768367  24.876219     0.023652\n",
            "2016-09-30  26.367392  26.580751  26.212649  26.505724     0.065505\n",
            "2016-10-31  26.646394  26.782382  26.540886  26.620604     0.004334\n",
            "2016-11-30  26.300084  26.441482  25.986651  26.045567    -0.021601\n",
            "2016-12-31  27.490195  27.619809  27.202685  27.294594     0.047955\n",
            "\n",
            "--------------------------------------------------\n",
            "\n",
            "                 Open       High        Low      Close  rate_return\n",
            "Date                                                               \n",
            "2016-01-31  21.852386  22.440248  21.750950  22.440248     0.000000\n",
            "2016-02-29  22.450759  22.768306  22.402084  22.411356    -0.001288\n",
            "2016-03-31  25.431522  25.473243  25.236821  25.262318     0.127211\n",
            "2016-04-30  21.785531  21.954736  21.442489  21.727585    -0.139921\n",
            "2016-05-31  23.226407  23.412965  23.044514  23.287039     0.071773\n",
            "2016-06-30  22.023110  22.333260  21.990462  22.293617    -0.042660\n",
            "2016-07-31  24.296782  24.380733  24.177851  24.301445     0.090063\n",
            "2016-08-31  24.773058  24.986415  24.768367  24.876219     0.023652\n",
            "2016-09-30  26.367392  26.580751  26.212649  26.505724     0.065505\n",
            "2016-10-31  26.646394  26.782382  26.540886  26.620604     0.004334\n",
            "2016-11-30  26.300084  26.441482  25.986651  26.045567    -0.021601\n",
            "2016-12-31  27.490195  27.619809  27.202685  27.294594     0.047955\n"
          ]
        }
      ]
    },
    {
      "cell_type": "markdown",
      "metadata": {
        "id": "btQo6LgukNQx"
      },
      "source": [
        "**DataFrame Concat**\n",
        "\n",
        "We have seen how to extract a Series from a dataFrame. Now we need to consider how to merge a Series or a DataFrame into another one.\n",
        "\n",
        "In Pandas, the function concat() allows us to merge multiple Series into a DataFrame:"
      ]
    },
    {
      "cell_type": "code",
      "metadata": {
        "colab": {
          "base_uri": "https://localhost:8080/"
        },
        "id": "1bMVu4iOkXPW",
        "outputId": "ab717843-ccf1-4e23-ef80-594773d9dacc"
      },
      "source": [
        "s1 = pd.Series([143.5, 144.09, 142.73, 144.18, 143.77], name = 'AAPL')\n",
        "s2 = pd.Series([898.7, 911.71, 906.69, 918.59, 926.99], name = 'GOOG')\n",
        "data_frame = pd.concat([s1,s2], axis = 1)\n",
        "print(data_frame)"
      ],
      "execution_count": 109,
      "outputs": [
        {
          "output_type": "stream",
          "name": "stdout",
          "text": [
            "     AAPL    GOOG\n",
            "0  143.50  898.70\n",
            "1  144.09  911.71\n",
            "2  142.73  906.69\n",
            "3  144.18  918.59\n",
            "4  143.77  926.99\n"
          ]
        }
      ]
    },
    {
      "cell_type": "markdown",
      "metadata": {
        "id": "fulFUBi5kZAg"
      },
      "source": [
        "\n",
        "The \"axis = 1\" parameter will join two DataFrames by columns:"
      ]
    },
    {
      "cell_type": "code",
      "metadata": {
        "colab": {
          "base_uri": "https://localhost:8080/"
        },
        "id": "EAAT_luzkZnT",
        "outputId": "1ff5c1b4-d58a-4d86-917a-fb9180bc3ab7"
      },
      "source": [
        "log_price = np.log(aapl_bar.Close)\n",
        "log_price.name = 'log_price'\n",
        "print(log_price)\n",
        "print('\\n---------------------- separate line--------------------\\n')\n",
        "concat = pd.concat([aapl_bar, log_price], axis = 1)\n",
        "print(concat)"
      ],
      "execution_count": 110,
      "outputs": [
        {
          "output_type": "stream",
          "name": "stdout",
          "text": [
            "Date\n",
            "2016-01-31    3.110856\n",
            "2016-02-29    3.109568\n",
            "2016-03-31    3.229314\n",
            "2016-04-30    3.078583\n",
            "2016-05-31    3.147897\n",
            "2016-06-30    3.104300\n",
            "2016-07-31    3.190536\n",
            "2016-08-31    3.213912\n",
            "2016-09-30    3.277361\n",
            "2016-10-31    3.281685\n",
            "2016-11-30    3.259848\n",
            "2016-12-31    3.306689\n",
            "Freq: M, Name: log_price, dtype: float64\n",
            "\n",
            "---------------------- separate line--------------------\n",
            "\n",
            "                 Open       High        Low      Close  rate_return  log_price\n",
            "Date                                                                          \n",
            "2016-01-31  21.852386  22.440248  21.750950  22.440248          NaN   3.110856\n",
            "2016-02-29  22.450759  22.768306  22.402084  22.411356    -0.001288   3.109568\n",
            "2016-03-31  25.431522  25.473243  25.236821  25.262318     0.127211   3.229314\n",
            "2016-04-30  21.785531  21.954736  21.442489  21.727585    -0.139921   3.078583\n",
            "2016-05-31  23.226407  23.412965  23.044514  23.287039     0.071773   3.147897\n",
            "2016-06-30  22.023110  22.333260  21.990462  22.293617    -0.042660   3.104300\n",
            "2016-07-31  24.296782  24.380733  24.177851  24.301445     0.090063   3.190536\n",
            "2016-08-31  24.773058  24.986415  24.768367  24.876219     0.023652   3.213912\n",
            "2016-09-30  26.367392  26.580751  26.212649  26.505724     0.065505   3.277361\n",
            "2016-10-31  26.646394  26.782382  26.540886  26.620604     0.004334   3.281685\n",
            "2016-11-30  26.300084  26.441482  25.986651  26.045567    -0.021601   3.259848\n",
            "2016-12-31  27.490195  27.619809  27.202685  27.294594     0.047955   3.306689\n"
          ]
        }
      ]
    },
    {
      "cell_type": "markdown",
      "metadata": {
        "id": "M9lcbxX9kck6"
      },
      "source": [
        "We can also join two DataFrames by rows. Consider these two DataFrames:"
      ]
    },
    {
      "cell_type": "code",
      "metadata": {
        "colab": {
          "base_uri": "https://localhost:8080/"
        },
        "id": "7D4DhhCtkejY",
        "outputId": "95d75ff3-4a28-4b84-b997-0a69456cd5e7"
      },
      "source": [
        "df_volume = aapl_table.loc['2016-10':'2017-04',['Volume', 'Stock Splits']].resample('M').agg(lambda x: x[-1])\n",
        "print(df_volume)\n",
        "print('\\n---------------------- separate line--------------------\\n')\n",
        "df_2017 = aapl_table.loc['2016-10':'2017-04',['Open', 'High', 'Low', 'Close']].resample('M').agg(lambda x: x[-1])\n",
        "print(df_2017)"
      ],
      "execution_count": 111,
      "outputs": [
        {
          "output_type": "stream",
          "name": "stdout",
          "text": [
            "               Volume  Stock Splits\n",
            "Date                               \n",
            "2016-10-31  105677600             0\n",
            "2016-11-30  144649200             0\n",
            "2016-12-31  122345200             0\n",
            "2017-01-31  196804000             0\n",
            "2017-02-28   93931600             0\n",
            "2017-03-31   78646800             0\n",
            "2017-04-30   83441600             0\n",
            "\n",
            "---------------------- separate line--------------------\n",
            "\n",
            "                 Open       High        Low      Close\n",
            "Date                                                  \n",
            "2016-10-31  26.646394  26.782382  26.540886  26.620604\n",
            "2016-11-30  26.300084  26.441482  25.986651  26.045567\n",
            "2016-12-31  27.490195  27.619809  27.202685  27.294594\n",
            "2017-01-31  28.550681  28.607239  28.425779  28.597813\n",
            "2017-02-28  32.444870  32.530077  32.354928  32.423569\n",
            "2017-03-31  34.016463  34.146641  33.848414  34.002262\n",
            "2017-04-30  34.104035  34.153741  33.909955  33.999893\n"
          ]
        }
      ]
    },
    {
      "cell_type": "markdown",
      "metadata": {
        "id": "G6pvVtsCky7Y"
      },
      "source": [
        "Now we merge the DataFrames with our DataFrame 'aapl_bar'"
      ]
    },
    {
      "cell_type": "code",
      "metadata": {
        "colab": {
          "base_uri": "https://localhost:8080/"
        },
        "id": "wYCaNG9Bk0as",
        "outputId": "f16010fb-c3dd-4fe4-ee90-85e5913076ec"
      },
      "source": [
        "concat = pd.concat([aapl_bar, df_volume], axis = 1)\n",
        "print(concat)"
      ],
      "execution_count": 112,
      "outputs": [
        {
          "output_type": "stream",
          "name": "stdout",
          "text": [
            "                 Open       High  ...       Volume  Stock Splits\n",
            "Date                              ...                           \n",
            "2016-01-31  21.852386  22.440248  ...          NaN           NaN\n",
            "2016-02-29  22.450759  22.768306  ...          NaN           NaN\n",
            "2016-03-31  25.431522  25.473243  ...          NaN           NaN\n",
            "2016-04-30  21.785531  21.954736  ...          NaN           NaN\n",
            "2016-05-31  23.226407  23.412965  ...          NaN           NaN\n",
            "2016-06-30  22.023110  22.333260  ...          NaN           NaN\n",
            "2016-07-31  24.296782  24.380733  ...          NaN           NaN\n",
            "2016-08-31  24.773058  24.986415  ...          NaN           NaN\n",
            "2016-09-30  26.367392  26.580751  ...          NaN           NaN\n",
            "2016-10-31  26.646394  26.782382  ...  105677600.0           0.0\n",
            "2016-11-30  26.300084  26.441482  ...  144649200.0           0.0\n",
            "2016-12-31  27.490195  27.619809  ...  122345200.0           0.0\n",
            "2017-01-31        NaN        NaN  ...  196804000.0           0.0\n",
            "2017-02-28        NaN        NaN  ...   93931600.0           0.0\n",
            "2017-03-31        NaN        NaN  ...   78646800.0           0.0\n",
            "2017-04-30        NaN        NaN  ...   83441600.0           0.0\n",
            "\n",
            "[16 rows x 7 columns]\n"
          ]
        }
      ]
    },
    {
      "cell_type": "markdown",
      "metadata": {
        "id": "PlbKy61Bk26D"
      },
      "source": [
        "\n",
        "By default the DataFrame are joined with all of the data. This default options results in zero information loss. We can also merge them by intersection, this is called 'inner join"
      ]
    },
    {
      "cell_type": "code",
      "metadata": {
        "colab": {
          "base_uri": "https://localhost:8080/"
        },
        "id": "33bgahpKk4wD",
        "outputId": "fedb173b-f600-430e-b8cd-20d0e035976b"
      },
      "source": [
        "concat = pd.concat([aapl_bar,df_volume],axis = 1, join = 'inner')\n",
        "print(concat)"
      ],
      "execution_count": 113,
      "outputs": [
        {
          "output_type": "stream",
          "name": "stdout",
          "text": [
            "                 Open       High  ...     Volume  Stock Splits\n",
            "Date                              ...                         \n",
            "2016-10-31  26.646394  26.782382  ...  105677600             0\n",
            "2016-11-30  26.300084  26.441482  ...  144649200             0\n",
            "2016-12-31  27.490195  27.619809  ...  122345200             0\n",
            "\n",
            "[3 rows x 7 columns]\n"
          ]
        }
      ]
    },
    {
      "cell_type": "markdown",
      "metadata": {
        "id": "YbKuHXipk6hA"
      },
      "source": [
        "Only the intersection part was left if use 'inner join' method. Now let's try to append a DataFrame to another one:"
      ]
    },
    {
      "cell_type": "code",
      "metadata": {
        "colab": {
          "base_uri": "https://localhost:8080/"
        },
        "id": "Aj9iGqDak8YP",
        "outputId": "2cf25667-b64c-4260-e49a-02f82553aac4"
      },
      "source": [
        "append = aapl_bar.append(df_2017)\n",
        "print(append)"
      ],
      "execution_count": 114,
      "outputs": [
        {
          "output_type": "stream",
          "name": "stdout",
          "text": [
            "                 Open       High        Low      Close  rate_return\n",
            "Date                                                               \n",
            "2016-01-31  21.852386  22.440248  21.750950  22.440248          NaN\n",
            "2016-02-29  22.450759  22.768306  22.402084  22.411356    -0.001288\n",
            "2016-03-31  25.431522  25.473243  25.236821  25.262318     0.127211\n",
            "2016-04-30  21.785531  21.954736  21.442489  21.727585    -0.139921\n",
            "2016-05-31  23.226407  23.412965  23.044514  23.287039     0.071773\n",
            "2016-06-30  22.023110  22.333260  21.990462  22.293617    -0.042660\n",
            "2016-07-31  24.296782  24.380733  24.177851  24.301445     0.090063\n",
            "2016-08-31  24.773058  24.986415  24.768367  24.876219     0.023652\n",
            "2016-09-30  26.367392  26.580751  26.212649  26.505724     0.065505\n",
            "2016-10-31  26.646394  26.782382  26.540886  26.620604     0.004334\n",
            "2016-11-30  26.300084  26.441482  25.986651  26.045567    -0.021601\n",
            "2016-12-31  27.490195  27.619809  27.202685  27.294594     0.047955\n",
            "2016-10-31  26.646394  26.782382  26.540886  26.620604          NaN\n",
            "2016-11-30  26.300084  26.441482  25.986651  26.045567          NaN\n",
            "2016-12-31  27.490195  27.619809  27.202685  27.294594          NaN\n",
            "2017-01-31  28.550681  28.607239  28.425779  28.597813          NaN\n",
            "2017-02-28  32.444870  32.530077  32.354928  32.423569          NaN\n",
            "2017-03-31  34.016463  34.146641  33.848414  34.002262          NaN\n",
            "2017-04-30  34.104035  34.153741  33.909955  33.999893          NaN\n"
          ]
        }
      ]
    },
    {
      "cell_type": "markdown",
      "metadata": {
        "id": "ezfG5g05lVFq"
      },
      "source": [
        "\n",
        "'Append' is essentially to concat two DataFrames by axis = 0, thus here is an alternative way to append:"
      ]
    },
    {
      "cell_type": "code",
      "metadata": {
        "colab": {
          "base_uri": "https://localhost:8080/"
        },
        "id": "_wO9gFoylXSG",
        "outputId": "de497595-809c-4599-b755-10576faded1f"
      },
      "source": [
        "concat = pd.concat([aapl_bar, df_2017], axis = 0)\n",
        "print(concat)"
      ],
      "execution_count": 115,
      "outputs": [
        {
          "output_type": "stream",
          "name": "stdout",
          "text": [
            "                 Open       High        Low      Close  rate_return\n",
            "Date                                                               \n",
            "2016-01-31  21.852386  22.440248  21.750950  22.440248          NaN\n",
            "2016-02-29  22.450759  22.768306  22.402084  22.411356    -0.001288\n",
            "2016-03-31  25.431522  25.473243  25.236821  25.262318     0.127211\n",
            "2016-04-30  21.785531  21.954736  21.442489  21.727585    -0.139921\n",
            "2016-05-31  23.226407  23.412965  23.044514  23.287039     0.071773\n",
            "2016-06-30  22.023110  22.333260  21.990462  22.293617    -0.042660\n",
            "2016-07-31  24.296782  24.380733  24.177851  24.301445     0.090063\n",
            "2016-08-31  24.773058  24.986415  24.768367  24.876219     0.023652\n",
            "2016-09-30  26.367392  26.580751  26.212649  26.505724     0.065505\n",
            "2016-10-31  26.646394  26.782382  26.540886  26.620604     0.004334\n",
            "2016-11-30  26.300084  26.441482  25.986651  26.045567    -0.021601\n",
            "2016-12-31  27.490195  27.619809  27.202685  27.294594     0.047955\n",
            "2016-10-31  26.646394  26.782382  26.540886  26.620604          NaN\n",
            "2016-11-30  26.300084  26.441482  25.986651  26.045567          NaN\n",
            "2016-12-31  27.490195  27.619809  27.202685  27.294594          NaN\n",
            "2017-01-31  28.550681  28.607239  28.425779  28.597813          NaN\n",
            "2017-02-28  32.444870  32.530077  32.354928  32.423569          NaN\n",
            "2017-03-31  34.016463  34.146641  33.848414  34.002262          NaN\n",
            "2017-04-30  34.104035  34.153741  33.909955  33.999893          NaN\n"
          ]
        }
      ]
    },
    {
      "cell_type": "markdown",
      "metadata": {
        "id": "24lHaeZ6loJX"
      },
      "source": [
        "\n",
        "Please note that if the two DataFrame have some columns with the same column names, these columns are considered to be the same and will be merged. It's very important to have the right column names. If we change a column names here:"
      ]
    },
    {
      "cell_type": "code",
      "metadata": {
        "id": "BC8T57oSlos-",
        "colab": {
          "base_uri": "https://localhost:8080/"
        },
        "outputId": "a6da7593-5a63-406e-adec-ecb10d9f926c"
      },
      "source": [
        "df_2017.columns = ['Change', 'High','Low','Close']\n",
        "concat = pd.concat([aapl_bar, df_2017], axis = 0)\n",
        "print(concat)"
      ],
      "execution_count": 116,
      "outputs": [
        {
          "output_type": "stream",
          "name": "stdout",
          "text": [
            "                 Open       High        Low      Close  rate_return     Change\n",
            "Date                                                                          \n",
            "2016-01-31  21.852386  22.440248  21.750950  22.440248          NaN        NaN\n",
            "2016-02-29  22.450759  22.768306  22.402084  22.411356    -0.001288        NaN\n",
            "2016-03-31  25.431522  25.473243  25.236821  25.262318     0.127211        NaN\n",
            "2016-04-30  21.785531  21.954736  21.442489  21.727585    -0.139921        NaN\n",
            "2016-05-31  23.226407  23.412965  23.044514  23.287039     0.071773        NaN\n",
            "2016-06-30  22.023110  22.333260  21.990462  22.293617    -0.042660        NaN\n",
            "2016-07-31  24.296782  24.380733  24.177851  24.301445     0.090063        NaN\n",
            "2016-08-31  24.773058  24.986415  24.768367  24.876219     0.023652        NaN\n",
            "2016-09-30  26.367392  26.580751  26.212649  26.505724     0.065505        NaN\n",
            "2016-10-31  26.646394  26.782382  26.540886  26.620604     0.004334        NaN\n",
            "2016-11-30  26.300084  26.441482  25.986651  26.045567    -0.021601        NaN\n",
            "2016-12-31  27.490195  27.619809  27.202685  27.294594     0.047955        NaN\n",
            "2016-10-31        NaN  26.782382  26.540886  26.620604          NaN  26.646394\n",
            "2016-11-30        NaN  26.441482  25.986651  26.045567          NaN  26.300084\n",
            "2016-12-31        NaN  27.619809  27.202685  27.294594          NaN  27.490195\n",
            "2017-01-31        NaN  28.607239  28.425779  28.597813          NaN  28.550681\n",
            "2017-02-28        NaN  32.530077  32.354928  32.423569          NaN  32.444870\n",
            "2017-03-31        NaN  34.146641  33.848414  34.002262          NaN  34.016463\n",
            "2017-04-30        NaN  34.153741  33.909955  33.999893          NaN  34.104035\n"
          ]
        }
      ]
    }
  ]
}